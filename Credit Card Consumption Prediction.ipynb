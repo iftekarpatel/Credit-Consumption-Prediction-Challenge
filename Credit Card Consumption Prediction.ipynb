{
 "cells": [
  {
   "cell_type": "markdown",
   "metadata": {},
   "source": [
    "# Import Libraries"
   ]
  },
  {
   "cell_type": "code",
   "execution_count": 1,
   "metadata": {
    "ExecuteTime": {
     "end_time": "2019-10-14T20:29:20.480483Z",
     "start_time": "2019-10-14T20:29:18.991078Z"
    }
   },
   "outputs": [],
   "source": [
    "# import libraries\n",
    "import sklearn\n",
    "import warnings\n",
    "import matplotlib\n",
    "%matplotlib inline\n",
    "import numpy as np\n",
    "import pandas as pd\n",
    "from scipy import stats\n",
    "from sklearn.svm import SVR\n",
    "import matplotlib.pyplot as plt\n",
    "from xgboost import XGBRegressor\n",
    "from sklearn import preprocessing\n",
    "from IPython import InteractiveShell\n",
    "from sklearn.metrics import mean_squared_error\n",
    "from sklearn.tree import DecisionTreeRegressor\n",
    "from sklearn.neural_network import MLPRegressor\n",
    "from sklearn.neighbors import KNeighborsRegressor\n",
    "from sklearn.linear_model import LinearRegression\n",
    "from sklearn.ensemble import RandomForestRegressor\n",
    "from sklearn.model_selection import cross_val_score\n",
    "from mlxtend.classifier import StackingCVClassifier\n",
    "from sklearn.model_selection import train_test_split\n",
    "from sklearn.model_selection import RandomizedSearchCV"
   ]
  },
  {
   "cell_type": "code",
   "execution_count": 2,
   "metadata": {
    "ExecuteTime": {
     "end_time": "2019-10-14T20:29:20.488281Z",
     "start_time": "2019-10-14T20:29:20.483419Z"
    }
   },
   "outputs": [],
   "source": [
    "# configurations for pretty display\n",
    "InteractiveShell.ast_node_interactivity=\"all\"\n",
    "pd.set_option('max_colwidth',-1)\n",
    "pd.set_option('max_columns',None)\n",
    "warnings.simplefilter(action='ignore',category=FutureWarning)"
   ]
  },
  {
   "cell_type": "markdown",
   "metadata": {
    "heading_collapsed": true
   },
   "source": [
    "# Load Data"
   ]
  },
  {
   "cell_type": "code",
   "execution_count": 3,
   "metadata": {
    "ExecuteTime": {
     "end_time": "2019-10-14T20:29:20.694528Z",
     "start_time": "2019-10-14T20:29:20.491451Z"
    },
    "hidden": true,
    "scrolled": true
   },
   "outputs": [
    {
     "data": {
      "text/html": [
       "<div>\n",
       "<style scoped>\n",
       "    .dataframe tbody tr th:only-of-type {\n",
       "        vertical-align: middle;\n",
       "    }\n",
       "\n",
       "    .dataframe tbody tr th {\n",
       "        vertical-align: top;\n",
       "    }\n",
       "\n",
       "    .dataframe thead th {\n",
       "        text-align: right;\n",
       "    }\n",
       "</style>\n",
       "<table border=\"1\" class=\"dataframe\">\n",
       "  <thead>\n",
       "    <tr style=\"text-align: right;\">\n",
       "      <th></th>\n",
       "      <th>id</th>\n",
       "      <th>account_type</th>\n",
       "      <th>gender</th>\n",
       "      <th>age</th>\n",
       "      <th>region_code</th>\n",
       "      <th>cc_cons_apr</th>\n",
       "      <th>dc_cons_apr</th>\n",
       "      <th>cc_cons_may</th>\n",
       "      <th>dc_cons_may</th>\n",
       "      <th>cc_cons_jun</th>\n",
       "      <th>dc_cons_jun</th>\n",
       "      <th>cc_count_apr</th>\n",
       "      <th>cc_count_may</th>\n",
       "      <th>cc_count_jun</th>\n",
       "      <th>dc_count_apr</th>\n",
       "      <th>dc_count_may</th>\n",
       "      <th>dc_count_jun</th>\n",
       "      <th>card_lim</th>\n",
       "      <th>personal_loan_active</th>\n",
       "      <th>vehicle_loan_active</th>\n",
       "      <th>personal_loan_closed</th>\n",
       "      <th>vehicle_loan_closed</th>\n",
       "      <th>investment_1</th>\n",
       "      <th>investment_2</th>\n",
       "      <th>investment_3</th>\n",
       "      <th>investment_4</th>\n",
       "      <th>debit_amount_apr</th>\n",
       "      <th>credit_amount_apr</th>\n",
       "      <th>debit_count_apr</th>\n",
       "      <th>credit_count_apr</th>\n",
       "      <th>max_credit_amount_apr</th>\n",
       "      <th>debit_amount_may</th>\n",
       "      <th>credit_amount_may</th>\n",
       "      <th>credit_count_may</th>\n",
       "      <th>debit_count_may</th>\n",
       "      <th>max_credit_amount_may</th>\n",
       "      <th>debit_amount_jun</th>\n",
       "      <th>credit_amount_jun</th>\n",
       "      <th>credit_count_jun</th>\n",
       "      <th>debit_count_jun</th>\n",
       "      <th>max_credit_amount_jun</th>\n",
       "      <th>loan_enq</th>\n",
       "      <th>emi_active</th>\n",
       "      <th>cc_cons</th>\n",
       "    </tr>\n",
       "  </thead>\n",
       "  <tbody>\n",
       "    <tr>\n",
       "      <td>0</td>\n",
       "      <td>23334</td>\n",
       "      <td>saving</td>\n",
       "      <td>M</td>\n",
       "      <td>63</td>\n",
       "      <td>305</td>\n",
       "      <td>7695.00</td>\n",
       "      <td>NaN</td>\n",
       "      <td>479.00</td>\n",
       "      <td>NaN</td>\n",
       "      <td>622.0</td>\n",
       "      <td>NaN</td>\n",
       "      <td>2.0</td>\n",
       "      <td>1.0</td>\n",
       "      <td>3.0</td>\n",
       "      <td>NaN</td>\n",
       "      <td>NaN</td>\n",
       "      <td>NaN</td>\n",
       "      <td>150000.0</td>\n",
       "      <td>NaN</td>\n",
       "      <td>NaN</td>\n",
       "      <td>NaN</td>\n",
       "      <td>NaN</td>\n",
       "      <td>NaN</td>\n",
       "      <td>118845.2</td>\n",
       "      <td>50000.0</td>\n",
       "      <td>NaN</td>\n",
       "      <td>51205.47</td>\n",
       "      <td>50259.0</td>\n",
       "      <td>3.0</td>\n",
       "      <td>1.0</td>\n",
       "      <td>50000.0</td>\n",
       "      <td>24740.22</td>\n",
       "      <td>114252.0</td>\n",
       "      <td>3.0</td>\n",
       "      <td>2.0</td>\n",
       "      <td>45000.0</td>\n",
       "      <td>20215.85</td>\n",
       "      <td>1279.37</td>\n",
       "      <td>7.0</td>\n",
       "      <td>3.0</td>\n",
       "      <td>470.0</td>\n",
       "      <td>NaN</td>\n",
       "      <td>0.00</td>\n",
       "      <td>435</td>\n",
       "    </tr>\n",
       "    <tr>\n",
       "      <td>1</td>\n",
       "      <td>20329</td>\n",
       "      <td>current</td>\n",
       "      <td>M</td>\n",
       "      <td>33</td>\n",
       "      <td>326</td>\n",
       "      <td>52702.00</td>\n",
       "      <td>988.72</td>\n",
       "      <td>29873.00</td>\n",
       "      <td>NaN</td>\n",
       "      <td>1087.0</td>\n",
       "      <td>2806.24</td>\n",
       "      <td>11.0</td>\n",
       "      <td>14.0</td>\n",
       "      <td>11.0</td>\n",
       "      <td>1.0</td>\n",
       "      <td>NaN</td>\n",
       "      <td>6.0</td>\n",
       "      <td>176000.0</td>\n",
       "      <td>NaN</td>\n",
       "      <td>NaN</td>\n",
       "      <td>1.0</td>\n",
       "      <td>NaN</td>\n",
       "      <td>NaN</td>\n",
       "      <td>NaN</td>\n",
       "      <td>NaN</td>\n",
       "      <td>NaN</td>\n",
       "      <td>159050.76</td>\n",
       "      <td>169812.0</td>\n",
       "      <td>20.0</td>\n",
       "      <td>9.0</td>\n",
       "      <td>70000.0</td>\n",
       "      <td>103102.85</td>\n",
       "      <td>174606.0</td>\n",
       "      <td>6.0</td>\n",
       "      <td>10.0</td>\n",
       "      <td>150000.0</td>\n",
       "      <td>122037.66</td>\n",
       "      <td>55390.00</td>\n",
       "      <td>8.0</td>\n",
       "      <td>19.0</td>\n",
       "      <td>27000.0</td>\n",
       "      <td>NaN</td>\n",
       "      <td>4963.33</td>\n",
       "      <td>1921</td>\n",
       "    </tr>\n",
       "    <tr>\n",
       "      <td>2</td>\n",
       "      <td>17679</td>\n",
       "      <td>current</td>\n",
       "      <td>M</td>\n",
       "      <td>44</td>\n",
       "      <td>264</td>\n",
       "      <td>10800.49</td>\n",
       "      <td>3215.52</td>\n",
       "      <td>21659.64</td>\n",
       "      <td>1607.0</td>\n",
       "      <td>1168.0</td>\n",
       "      <td>355.00</td>\n",
       "      <td>6.0</td>\n",
       "      <td>9.0</td>\n",
       "      <td>6.0</td>\n",
       "      <td>3.0</td>\n",
       "      <td>2.0</td>\n",
       "      <td>14.0</td>\n",
       "      <td>65000.0</td>\n",
       "      <td>NaN</td>\n",
       "      <td>NaN</td>\n",
       "      <td>NaN</td>\n",
       "      <td>NaN</td>\n",
       "      <td>NaN</td>\n",
       "      <td>NaN</td>\n",
       "      <td>NaN</td>\n",
       "      <td>NaN</td>\n",
       "      <td>51484.55</td>\n",
       "      <td>38942.0</td>\n",
       "      <td>16.0</td>\n",
       "      <td>4.0</td>\n",
       "      <td>11700.0</td>\n",
       "      <td>15283.00</td>\n",
       "      <td>23051.0</td>\n",
       "      <td>2.0</td>\n",
       "      <td>7.0</td>\n",
       "      <td>13800.0</td>\n",
       "      <td>46827.00</td>\n",
       "      <td>29297.91</td>\n",
       "      <td>6.0</td>\n",
       "      <td>19.0</td>\n",
       "      <td>20800.0</td>\n",
       "      <td>NaN</td>\n",
       "      <td>0.00</td>\n",
       "      <td>1970</td>\n",
       "    </tr>\n",
       "    <tr>\n",
       "      <td>3</td>\n",
       "      <td>16428</td>\n",
       "      <td>saving</td>\n",
       "      <td>M</td>\n",
       "      <td>44</td>\n",
       "      <td>233</td>\n",
       "      <td>20936.00</td>\n",
       "      <td>NaN</td>\n",
       "      <td>2094.00</td>\n",
       "      <td>NaN</td>\n",
       "      <td>11778.5</td>\n",
       "      <td>NaN</td>\n",
       "      <td>9.0</td>\n",
       "      <td>6.0</td>\n",
       "      <td>6.0</td>\n",
       "      <td>NaN</td>\n",
       "      <td>NaN</td>\n",
       "      <td>NaN</td>\n",
       "      <td>600000.0</td>\n",
       "      <td>NaN</td>\n",
       "      <td>NaN</td>\n",
       "      <td>NaN</td>\n",
       "      <td>NaN</td>\n",
       "      <td>NaN</td>\n",
       "      <td>132442.0</td>\n",
       "      <td>NaN</td>\n",
       "      <td>NaN</td>\n",
       "      <td>1981.07</td>\n",
       "      <td>2294.0</td>\n",
       "      <td>2.0</td>\n",
       "      <td>1.0</td>\n",
       "      <td>2000.0</td>\n",
       "      <td>19361.24</td>\n",
       "      <td>19529.0</td>\n",
       "      <td>1.0</td>\n",
       "      <td>1.0</td>\n",
       "      <td>19300.0</td>\n",
       "      <td>5426.55</td>\n",
       "      <td>7544.00</td>\n",
       "      <td>3.0</td>\n",
       "      <td>1.0</td>\n",
       "      <td>5300.0</td>\n",
       "      <td>NaN</td>\n",
       "      <td>1238.18</td>\n",
       "      <td>21579</td>\n",
       "    </tr>\n",
       "    <tr>\n",
       "      <td>4</td>\n",
       "      <td>18721</td>\n",
       "      <td>saving</td>\n",
       "      <td>F</td>\n",
       "      <td>35</td>\n",
       "      <td>324</td>\n",
       "      <td>1183.83</td>\n",
       "      <td>NaN</td>\n",
       "      <td>3656.29</td>\n",
       "      <td>NaN</td>\n",
       "      <td>945.0</td>\n",
       "      <td>NaN</td>\n",
       "      <td>2.0</td>\n",
       "      <td>7.0</td>\n",
       "      <td>9.0</td>\n",
       "      <td>NaN</td>\n",
       "      <td>NaN</td>\n",
       "      <td>NaN</td>\n",
       "      <td>100000.0</td>\n",
       "      <td>NaN</td>\n",
       "      <td>NaN</td>\n",
       "      <td>NaN</td>\n",
       "      <td>NaN</td>\n",
       "      <td>NaN</td>\n",
       "      <td>NaN</td>\n",
       "      <td>NaN</td>\n",
       "      <td>NaN</td>\n",
       "      <td>6462.00</td>\n",
       "      <td>10271.0</td>\n",
       "      <td>6.0</td>\n",
       "      <td>1.0</td>\n",
       "      <td>10000.0</td>\n",
       "      <td>7461.00</td>\n",
       "      <td>3194.0</td>\n",
       "      <td>2.0</td>\n",
       "      <td>3.0</td>\n",
       "      <td>3000.0</td>\n",
       "      <td>26178.05</td>\n",
       "      <td>53483.00</td>\n",
       "      <td>4.0</td>\n",
       "      <td>4.0</td>\n",
       "      <td>45000.0</td>\n",
       "      <td>NaN</td>\n",
       "      <td>0.00</td>\n",
       "      <td>1814</td>\n",
       "    </tr>\n",
       "  </tbody>\n",
       "</table>\n",
       "</div>"
      ],
      "text/plain": [
       "      id account_type gender  age  region_code  cc_cons_apr  dc_cons_apr  \\\n",
       "0  23334  saving       M      63   305          7695.00     NaN            \n",
       "1  20329  current      M      33   326          52702.00     988.72        \n",
       "2  17679  current      M      44   264          10800.49     3215.52       \n",
       "3  16428  saving       M      44   233          20936.00    NaN            \n",
       "4  18721  saving       F      35   324          1183.83     NaN            \n",
       "\n",
       "   cc_cons_may  dc_cons_may  cc_cons_jun  dc_cons_jun  cc_count_apr  \\\n",
       "0  479.00      NaN           622.0       NaN           2.0            \n",
       "1  29873.00    NaN           1087.0       2806.24      11.0           \n",
       "2  21659.64     1607.0       1168.0       355.00       6.0            \n",
       "3  2094.00     NaN           11778.5     NaN           9.0            \n",
       "4  3656.29     NaN           945.0       NaN           2.0            \n",
       "\n",
       "   cc_count_may  cc_count_jun  dc_count_apr  dc_count_may  dc_count_jun  \\\n",
       "0  1.0           3.0          NaN           NaN           NaN             \n",
       "1  14.0          11.0          1.0          NaN            6.0            \n",
       "2  9.0           6.0           3.0           2.0           14.0           \n",
       "3  6.0           6.0          NaN           NaN           NaN             \n",
       "4  7.0           9.0          NaN           NaN           NaN             \n",
       "\n",
       "   card_lim  personal_loan_active  vehicle_loan_active  personal_loan_closed  \\\n",
       "0  150000.0 NaN                   NaN                  NaN                     \n",
       "1  176000.0 NaN                   NaN                   1.0                    \n",
       "2  65000.0  NaN                   NaN                  NaN                     \n",
       "3  600000.0 NaN                   NaN                  NaN                     \n",
       "4  100000.0 NaN                   NaN                  NaN                     \n",
       "\n",
       "   vehicle_loan_closed  investment_1  investment_2  investment_3  \\\n",
       "0 NaN                  NaN            118845.2      50000.0        \n",
       "1 NaN                  NaN           NaN           NaN             \n",
       "2 NaN                  NaN           NaN           NaN             \n",
       "3 NaN                  NaN            132442.0     NaN             \n",
       "4 NaN                  NaN           NaN           NaN             \n",
       "\n",
       "   investment_4  debit_amount_apr  credit_amount_apr  debit_count_apr  \\\n",
       "0 NaN            51205.47          50259.0            3.0               \n",
       "1 NaN            159050.76         169812.0           20.0              \n",
       "2 NaN            51484.55          38942.0            16.0              \n",
       "3 NaN            1981.07           2294.0             2.0               \n",
       "4 NaN            6462.00           10271.0            6.0               \n",
       "\n",
       "   credit_count_apr  max_credit_amount_apr  debit_amount_may  \\\n",
       "0  1.0               50000.0                24740.22           \n",
       "1  9.0               70000.0                103102.85          \n",
       "2  4.0               11700.0                15283.00           \n",
       "3  1.0               2000.0                 19361.24           \n",
       "4  1.0               10000.0                7461.00            \n",
       "\n",
       "   credit_amount_may  credit_count_may  debit_count_may  \\\n",
       "0  114252.0           3.0               2.0               \n",
       "1  174606.0           6.0               10.0              \n",
       "2  23051.0            2.0               7.0               \n",
       "3  19529.0            1.0               1.0               \n",
       "4  3194.0             2.0               3.0               \n",
       "\n",
       "   max_credit_amount_may  debit_amount_jun  credit_amount_jun  \\\n",
       "0  45000.0                20215.85          1279.37             \n",
       "1  150000.0               122037.66         55390.00            \n",
       "2  13800.0                46827.00          29297.91            \n",
       "3  19300.0                5426.55           7544.00             \n",
       "4  3000.0                 26178.05          53483.00            \n",
       "\n",
       "   credit_count_jun  debit_count_jun  max_credit_amount_jun loan_enq  \\\n",
       "0  7.0               3.0              470.0                  NaN       \n",
       "1  8.0               19.0             27000.0                NaN       \n",
       "2  6.0               19.0             20800.0                NaN       \n",
       "3  3.0               1.0              5300.0                 NaN       \n",
       "4  4.0               4.0              45000.0                NaN       \n",
       "\n",
       "   emi_active  cc_cons  \n",
       "0  0.00        435      \n",
       "1  4963.33     1921     \n",
       "2  0.00        1970     \n",
       "3  1238.18     21579    \n",
       "4  0.00        1814     "
      ]
     },
     "execution_count": 3,
     "metadata": {},
     "output_type": "execute_result"
    },
    {
     "data": {
      "text/plain": [
       "32820"
      ]
     },
     "execution_count": 3,
     "metadata": {},
     "output_type": "execute_result"
    }
   ],
   "source": [
    "# load data\n",
    "df=pd.read_csv('Data/train.csv')\n",
    "df.head()\n",
    "len(df)"
   ]
  },
  {
   "cell_type": "code",
   "execution_count": 4,
   "metadata": {
    "ExecuteTime": {
     "end_time": "2019-10-14T20:29:20.709927Z",
     "start_time": "2019-10-14T20:29:20.697250Z"
    },
    "hidden": true
   },
   "outputs": [],
   "source": [
    "# drop id column\n",
    "df.drop(columns=['id'],axis=1,inplace=True)"
   ]
  },
  {
   "cell_type": "markdown",
   "metadata": {
    "heading_collapsed": true
   },
   "source": [
    "# Treat Missing Values"
   ]
  },
  {
   "cell_type": "code",
   "execution_count": 5,
   "metadata": {
    "ExecuteTime": {
     "end_time": "2019-10-14T20:29:20.980844Z",
     "start_time": "2019-10-14T20:29:20.712926Z"
    },
    "hidden": true
   },
   "outputs": [
    {
     "data": {
      "text/plain": [
       "account_type             0.0 \n",
       "gender                   0.0 \n",
       "age                      0.0 \n",
       "region_code              0.0 \n",
       "cc_cons_apr              0.0 \n",
       "dc_cons_apr              58.0\n",
       "cc_cons_may              0.0 \n",
       "dc_cons_may              52.8\n",
       "cc_cons_jun              0.0 \n",
       "dc_cons_jun              64.9\n",
       "cc_count_apr             7.3 \n",
       "cc_count_may             3.5 \n",
       "cc_count_jun             4.8 \n",
       "dc_count_apr             58.0\n",
       "dc_count_may             52.8\n",
       "dc_count_jun             47.2\n",
       "card_lim                 0.0 \n",
       "personal_loan_active     91.6\n",
       "vehicle_loan_active      97.4\n",
       "personal_loan_closed     91.2\n",
       "vehicle_loan_closed      95.0\n",
       "investment_1             95.7\n",
       "investment_2             92.9\n",
       "investment_3             95.9\n",
       "investment_4             98.8\n",
       "debit_amount_apr         5.8 \n",
       "credit_amount_apr        10.1\n",
       "debit_count_apr          5.4 \n",
       "credit_count_apr         5.4 \n",
       "max_credit_amount_apr    10.1\n",
       "debit_amount_may         7.0 \n",
       "credit_amount_may        10.4\n",
       "credit_count_may         6.3 \n",
       "debit_count_may          6.3 \n",
       "max_credit_amount_may    10.4\n",
       "debit_amount_jun         6.7 \n",
       "credit_amount_jun        4.7 \n",
       "credit_count_jun         4.7 \n",
       "debit_count_jun          4.7 \n",
       "max_credit_amount_jun    4.7 \n",
       "loan_enq                 98.1\n",
       "emi_active               0.0 \n",
       "cc_cons                  0.0 \n",
       "dtype: float64"
      ]
     },
     "execution_count": 5,
     "metadata": {},
     "output_type": "execute_result"
    }
   ],
   "source": [
    "# check percentage of missing values\n",
    "round(df.isnull().mean(),3)*100"
   ]
  },
  {
   "cell_type": "code",
   "execution_count": 6,
   "metadata": {
    "ExecuteTime": {
     "end_time": "2019-10-14T20:29:21.013066Z",
     "start_time": "2019-10-14T20:29:20.982411Z"
    },
    "hidden": true
   },
   "outputs": [],
   "source": [
    "# treat missing values\n",
    "df.personal_loan_active.fillna(0,inplace=True)\n",
    "df.vehicle_loan_active.fillna(0,inplace=True)\n",
    "df.personal_loan_closed.fillna(0,inplace=True)\n",
    "df.vehicle_loan_closed.fillna(0,inplace=True)\n",
    "df.dc_count_apr.fillna(0,inplace=True)\n",
    "df.dc_count_may.fillna(0,inplace=True)\n",
    "df.dc_count_jun.fillna(0,inplace=True)\n",
    "df.loc[df.dc_count_apr==0,'dc_cons_apr']=0\n",
    "df.loc[df.dc_count_may==0,'dc_cons_may']=0\n",
    "df.loc[df.dc_count_jun==0,'dc_cons_jun']=0\n",
    "df.cc_count_apr.fillna(0,inplace=True)\n",
    "df.cc_count_may.fillna(0,inplace=True)\n",
    "df.cc_count_jun.fillna(0,inplace=True)\n",
    "df.loc[df.cc_count_apr==0,'cc_cons_apr']=0\n",
    "df.loc[df.cc_count_may==0,'cc_cons_may']=0\n",
    "df.loc[df.cc_count_jun==0,'cc_cons_jun']=0\n",
    "df.debit_count_apr.fillna(0,inplace=True)\n",
    "df.debit_count_may.fillna(0,inplace=True)\n",
    "df.debit_count_jun.fillna(0,inplace=True)\n",
    "df.loc[df.debit_count_apr==0,'debit_amount_apr']=0\n",
    "df.loc[df.debit_count_may==0,'debit_amount_may']=0\n",
    "df.loc[df.debit_count_jun==0,'debit_amount_jun']=0\n",
    "df.credit_count_apr.fillna(0,inplace=True)\n",
    "df.credit_count_may.fillna(0,inplace=True)\n",
    "df.credit_count_jun.fillna(0,inplace=True)\n",
    "df.loc[df.credit_count_apr==0,'credit_amount_apr']=0\n",
    "df.loc[df.credit_count_may==0,'credit_amount_may']=0\n",
    "df.loc[df.credit_count_jun==0,'credit_amount_jun']=0\n",
    "df.loan_enq.fillna('N',inplace=True)"
   ]
  },
  {
   "cell_type": "code",
   "execution_count": 7,
   "metadata": {
    "ExecuteTime": {
     "end_time": "2019-10-14T20:29:21.026556Z",
     "start_time": "2019-10-14T20:29:21.014780Z"
    },
    "hidden": true
   },
   "outputs": [],
   "source": [
    "# drop investment_1,investment_2,investment_3,investment_4 as they have \n",
    "# very high number of null values to be useful\n",
    "df.drop(columns=['investment_1','investment_2','investment_3','investment_4'],axis=1,inplace=True)"
   ]
  },
  {
   "cell_type": "code",
   "execution_count": 8,
   "metadata": {
    "ExecuteTime": {
     "end_time": "2019-10-14T20:29:21.043497Z",
     "start_time": "2019-10-14T20:29:21.028285Z"
    },
    "hidden": true
   },
   "outputs": [
    {
     "data": {
      "text/plain": [
       "account_type             0.0 \n",
       "gender                   0.0 \n",
       "age                      0.0 \n",
       "region_code              0.0 \n",
       "cc_cons_apr              0.0 \n",
       "dc_cons_apr              0.0 \n",
       "cc_cons_may              0.0 \n",
       "dc_cons_may              0.0 \n",
       "cc_cons_jun              0.0 \n",
       "dc_cons_jun              17.7\n",
       "cc_count_apr             0.0 \n",
       "cc_count_may             0.0 \n",
       "cc_count_jun             0.0 \n",
       "dc_count_apr             0.0 \n",
       "dc_count_may             0.0 \n",
       "dc_count_jun             0.0 \n",
       "card_lim                 0.0 \n",
       "personal_loan_active     0.0 \n",
       "vehicle_loan_active      0.0 \n",
       "personal_loan_closed     0.0 \n",
       "vehicle_loan_closed      0.0 \n",
       "debit_amount_apr         0.0 \n",
       "credit_amount_apr        0.0 \n",
       "debit_count_apr          0.0 \n",
       "credit_count_apr         0.0 \n",
       "max_credit_amount_apr    10.1\n",
       "debit_amount_may         0.0 \n",
       "credit_amount_may        0.0 \n",
       "credit_count_may         0.0 \n",
       "debit_count_may          0.0 \n",
       "max_credit_amount_may    10.4\n",
       "debit_amount_jun         0.0 \n",
       "credit_amount_jun        0.0 \n",
       "credit_count_jun         0.0 \n",
       "debit_count_jun          0.0 \n",
       "max_credit_amount_jun    4.7 \n",
       "loan_enq                 0.0 \n",
       "emi_active               0.0 \n",
       "cc_cons                  0.0 \n",
       "dtype: float64"
      ]
     },
     "execution_count": 8,
     "metadata": {},
     "output_type": "execute_result"
    }
   ],
   "source": [
    "# cross check missing values again\n",
    "round(df.isnull().mean(),3)*100"
   ]
  },
  {
   "cell_type": "code",
   "execution_count": 9,
   "metadata": {
    "ExecuteTime": {
     "end_time": "2019-10-14T20:29:22.157305Z",
     "start_time": "2019-10-14T20:29:21.045134Z"
    },
    "hidden": true
   },
   "outputs": [],
   "source": [
    "# replace less than 17% missing values in the remaining variables with mean\n",
    "df.fillna(df.mean(),inplace=True)"
   ]
  },
  {
   "cell_type": "code",
   "execution_count": 10,
   "metadata": {
    "ExecuteTime": {
     "end_time": "2019-10-14T20:29:22.191083Z",
     "start_time": "2019-10-14T20:29:22.159075Z"
    },
    "hidden": true,
    "scrolled": true
   },
   "outputs": [
    {
     "data": {
      "text/plain": [
       "account_type             0.0\n",
       "gender                   0.0\n",
       "age                      0.0\n",
       "region_code              0.0\n",
       "cc_cons_apr              0.0\n",
       "dc_cons_apr              0.0\n",
       "cc_cons_may              0.0\n",
       "dc_cons_may              0.0\n",
       "cc_cons_jun              0.0\n",
       "dc_cons_jun              0.0\n",
       "cc_count_apr             0.0\n",
       "cc_count_may             0.0\n",
       "cc_count_jun             0.0\n",
       "dc_count_apr             0.0\n",
       "dc_count_may             0.0\n",
       "dc_count_jun             0.0\n",
       "card_lim                 0.0\n",
       "personal_loan_active     0.0\n",
       "vehicle_loan_active      0.0\n",
       "personal_loan_closed     0.0\n",
       "vehicle_loan_closed      0.0\n",
       "debit_amount_apr         0.0\n",
       "credit_amount_apr        0.0\n",
       "debit_count_apr          0.0\n",
       "credit_count_apr         0.0\n",
       "max_credit_amount_apr    0.0\n",
       "debit_amount_may         0.0\n",
       "credit_amount_may        0.0\n",
       "credit_count_may         0.0\n",
       "debit_count_may          0.0\n",
       "max_credit_amount_may    0.0\n",
       "debit_amount_jun         0.0\n",
       "credit_amount_jun        0.0\n",
       "credit_count_jun         0.0\n",
       "debit_count_jun          0.0\n",
       "max_credit_amount_jun    0.0\n",
       "loan_enq                 0.0\n",
       "emi_active               0.0\n",
       "cc_cons                  0.0\n",
       "dtype: float64"
      ]
     },
     "execution_count": 10,
     "metadata": {},
     "output_type": "execute_result"
    }
   ],
   "source": [
    "# cross check missing values\n",
    "round(df.isnull().mean(),3)*100"
   ]
  },
  {
   "cell_type": "code",
   "execution_count": 11,
   "metadata": {
    "ExecuteTime": {
     "end_time": "2019-10-14T20:29:22.231493Z",
     "start_time": "2019-10-14T20:29:22.192760Z"
    },
    "hidden": true
   },
   "outputs": [],
   "source": [
    "# change the datatypes of the columns accordingly for generating dummies\n",
    "categorical_columns=['account_type','gender','region_code','personal_loan_active',\n",
    "                     'vehicle_loan_active','personal_loan_closed','vehicle_loan_closed','loan_enq']\n",
    "for c in categorical_columns:\n",
    "    df[c]=df[c].astype('category');"
   ]
  },
  {
   "cell_type": "markdown",
   "metadata": {
    "heading_collapsed": true
   },
   "source": [
    "# Feature Engineering"
   ]
  },
  {
   "cell_type": "code",
   "execution_count": 12,
   "metadata": {
    "ExecuteTime": {
     "end_time": "2019-10-14T20:29:22.283353Z",
     "start_time": "2019-10-14T20:29:22.233729Z"
    },
    "hidden": true
   },
   "outputs": [
    {
     "data": {
      "text/html": [
       "<div>\n",
       "<style scoped>\n",
       "    .dataframe tbody tr th:only-of-type {\n",
       "        vertical-align: middle;\n",
       "    }\n",
       "\n",
       "    .dataframe tbody tr th {\n",
       "        vertical-align: top;\n",
       "    }\n",
       "\n",
       "    .dataframe thead th {\n",
       "        text-align: right;\n",
       "    }\n",
       "</style>\n",
       "<table border=\"1\" class=\"dataframe\">\n",
       "  <thead>\n",
       "    <tr style=\"text-align: right;\">\n",
       "      <th></th>\n",
       "      <th>account_type</th>\n",
       "      <th>gender</th>\n",
       "      <th>age</th>\n",
       "      <th>cc_cons_apr</th>\n",
       "      <th>dc_cons_apr</th>\n",
       "      <th>cc_cons_may</th>\n",
       "      <th>dc_cons_may</th>\n",
       "      <th>cc_cons_jun</th>\n",
       "      <th>dc_cons_jun</th>\n",
       "      <th>cc_count_apr</th>\n",
       "      <th>cc_count_may</th>\n",
       "      <th>cc_count_jun</th>\n",
       "      <th>dc_count_apr</th>\n",
       "      <th>dc_count_may</th>\n",
       "      <th>dc_count_jun</th>\n",
       "      <th>card_lim</th>\n",
       "      <th>personal_loan_active</th>\n",
       "      <th>vehicle_loan_active</th>\n",
       "      <th>personal_loan_closed</th>\n",
       "      <th>vehicle_loan_closed</th>\n",
       "      <th>debit_amount_apr</th>\n",
       "      <th>credit_amount_apr</th>\n",
       "      <th>debit_count_apr</th>\n",
       "      <th>credit_count_apr</th>\n",
       "      <th>max_credit_amount_apr</th>\n",
       "      <th>debit_amount_may</th>\n",
       "      <th>credit_amount_may</th>\n",
       "      <th>credit_count_may</th>\n",
       "      <th>debit_count_may</th>\n",
       "      <th>max_credit_amount_may</th>\n",
       "      <th>debit_amount_jun</th>\n",
       "      <th>credit_amount_jun</th>\n",
       "      <th>credit_count_jun</th>\n",
       "      <th>debit_count_jun</th>\n",
       "      <th>max_credit_amount_jun</th>\n",
       "      <th>loan_enq</th>\n",
       "      <th>emi_active</th>\n",
       "    </tr>\n",
       "  </thead>\n",
       "  <tbody>\n",
       "    <tr>\n",
       "      <td>0</td>\n",
       "      <td>saving</td>\n",
       "      <td>M</td>\n",
       "      <td>63</td>\n",
       "      <td>7695.00</td>\n",
       "      <td>0.00</td>\n",
       "      <td>479.00</td>\n",
       "      <td>0.0</td>\n",
       "      <td>622.0</td>\n",
       "      <td>0.00</td>\n",
       "      <td>2.0</td>\n",
       "      <td>1.0</td>\n",
       "      <td>3.0</td>\n",
       "      <td>0.0</td>\n",
       "      <td>0.0</td>\n",
       "      <td>0.0</td>\n",
       "      <td>150000.0</td>\n",
       "      <td>0.0</td>\n",
       "      <td>0.0</td>\n",
       "      <td>0.0</td>\n",
       "      <td>0.0</td>\n",
       "      <td>51205.47</td>\n",
       "      <td>50259.0</td>\n",
       "      <td>3.0</td>\n",
       "      <td>1.0</td>\n",
       "      <td>50000.0</td>\n",
       "      <td>24740.22</td>\n",
       "      <td>114252.0</td>\n",
       "      <td>3.0</td>\n",
       "      <td>2.0</td>\n",
       "      <td>45000.0</td>\n",
       "      <td>20215.85</td>\n",
       "      <td>1279.37</td>\n",
       "      <td>7.0</td>\n",
       "      <td>3.0</td>\n",
       "      <td>470.0</td>\n",
       "      <td>N</td>\n",
       "      <td>0.00</td>\n",
       "    </tr>\n",
       "    <tr>\n",
       "      <td>1</td>\n",
       "      <td>current</td>\n",
       "      <td>M</td>\n",
       "      <td>33</td>\n",
       "      <td>52702.00</td>\n",
       "      <td>988.72</td>\n",
       "      <td>29873.00</td>\n",
       "      <td>0.0</td>\n",
       "      <td>1087.0</td>\n",
       "      <td>2806.24</td>\n",
       "      <td>11.0</td>\n",
       "      <td>14.0</td>\n",
       "      <td>11.0</td>\n",
       "      <td>1.0</td>\n",
       "      <td>0.0</td>\n",
       "      <td>6.0</td>\n",
       "      <td>176000.0</td>\n",
       "      <td>0.0</td>\n",
       "      <td>0.0</td>\n",
       "      <td>1.0</td>\n",
       "      <td>0.0</td>\n",
       "      <td>159050.76</td>\n",
       "      <td>169812.0</td>\n",
       "      <td>20.0</td>\n",
       "      <td>9.0</td>\n",
       "      <td>70000.0</td>\n",
       "      <td>103102.85</td>\n",
       "      <td>174606.0</td>\n",
       "      <td>6.0</td>\n",
       "      <td>10.0</td>\n",
       "      <td>150000.0</td>\n",
       "      <td>122037.66</td>\n",
       "      <td>55390.00</td>\n",
       "      <td>8.0</td>\n",
       "      <td>19.0</td>\n",
       "      <td>27000.0</td>\n",
       "      <td>N</td>\n",
       "      <td>4963.33</td>\n",
       "    </tr>\n",
       "    <tr>\n",
       "      <td>2</td>\n",
       "      <td>current</td>\n",
       "      <td>M</td>\n",
       "      <td>44</td>\n",
       "      <td>10800.49</td>\n",
       "      <td>3215.52</td>\n",
       "      <td>21659.64</td>\n",
       "      <td>1607.0</td>\n",
       "      <td>1168.0</td>\n",
       "      <td>355.00</td>\n",
       "      <td>6.0</td>\n",
       "      <td>9.0</td>\n",
       "      <td>6.0</td>\n",
       "      <td>3.0</td>\n",
       "      <td>2.0</td>\n",
       "      <td>14.0</td>\n",
       "      <td>65000.0</td>\n",
       "      <td>0.0</td>\n",
       "      <td>0.0</td>\n",
       "      <td>0.0</td>\n",
       "      <td>0.0</td>\n",
       "      <td>51484.55</td>\n",
       "      <td>38942.0</td>\n",
       "      <td>16.0</td>\n",
       "      <td>4.0</td>\n",
       "      <td>11700.0</td>\n",
       "      <td>15283.00</td>\n",
       "      <td>23051.0</td>\n",
       "      <td>2.0</td>\n",
       "      <td>7.0</td>\n",
       "      <td>13800.0</td>\n",
       "      <td>46827.00</td>\n",
       "      <td>29297.91</td>\n",
       "      <td>6.0</td>\n",
       "      <td>19.0</td>\n",
       "      <td>20800.0</td>\n",
       "      <td>N</td>\n",
       "      <td>0.00</td>\n",
       "    </tr>\n",
       "    <tr>\n",
       "      <td>3</td>\n",
       "      <td>saving</td>\n",
       "      <td>M</td>\n",
       "      <td>44</td>\n",
       "      <td>20936.00</td>\n",
       "      <td>0.00</td>\n",
       "      <td>2094.00</td>\n",
       "      <td>0.0</td>\n",
       "      <td>11778.5</td>\n",
       "      <td>0.00</td>\n",
       "      <td>9.0</td>\n",
       "      <td>6.0</td>\n",
       "      <td>6.0</td>\n",
       "      <td>0.0</td>\n",
       "      <td>0.0</td>\n",
       "      <td>0.0</td>\n",
       "      <td>600000.0</td>\n",
       "      <td>0.0</td>\n",
       "      <td>0.0</td>\n",
       "      <td>0.0</td>\n",
       "      <td>0.0</td>\n",
       "      <td>1981.07</td>\n",
       "      <td>2294.0</td>\n",
       "      <td>2.0</td>\n",
       "      <td>1.0</td>\n",
       "      <td>2000.0</td>\n",
       "      <td>19361.24</td>\n",
       "      <td>19529.0</td>\n",
       "      <td>1.0</td>\n",
       "      <td>1.0</td>\n",
       "      <td>19300.0</td>\n",
       "      <td>5426.55</td>\n",
       "      <td>7544.00</td>\n",
       "      <td>3.0</td>\n",
       "      <td>1.0</td>\n",
       "      <td>5300.0</td>\n",
       "      <td>N</td>\n",
       "      <td>1238.18</td>\n",
       "    </tr>\n",
       "    <tr>\n",
       "      <td>4</td>\n",
       "      <td>saving</td>\n",
       "      <td>F</td>\n",
       "      <td>35</td>\n",
       "      <td>1183.83</td>\n",
       "      <td>0.00</td>\n",
       "      <td>3656.29</td>\n",
       "      <td>0.0</td>\n",
       "      <td>945.0</td>\n",
       "      <td>0.00</td>\n",
       "      <td>2.0</td>\n",
       "      <td>7.0</td>\n",
       "      <td>9.0</td>\n",
       "      <td>0.0</td>\n",
       "      <td>0.0</td>\n",
       "      <td>0.0</td>\n",
       "      <td>100000.0</td>\n",
       "      <td>0.0</td>\n",
       "      <td>0.0</td>\n",
       "      <td>0.0</td>\n",
       "      <td>0.0</td>\n",
       "      <td>6462.00</td>\n",
       "      <td>10271.0</td>\n",
       "      <td>6.0</td>\n",
       "      <td>1.0</td>\n",
       "      <td>10000.0</td>\n",
       "      <td>7461.00</td>\n",
       "      <td>3194.0</td>\n",
       "      <td>2.0</td>\n",
       "      <td>3.0</td>\n",
       "      <td>3000.0</td>\n",
       "      <td>26178.05</td>\n",
       "      <td>53483.00</td>\n",
       "      <td>4.0</td>\n",
       "      <td>4.0</td>\n",
       "      <td>45000.0</td>\n",
       "      <td>N</td>\n",
       "      <td>0.00</td>\n",
       "    </tr>\n",
       "  </tbody>\n",
       "</table>\n",
       "</div>"
      ],
      "text/plain": [
       "  account_type gender  age  cc_cons_apr  dc_cons_apr  cc_cons_may  \\\n",
       "0  saving       M      63   7695.00      0.00         479.00        \n",
       "1  current      M      33   52702.00     988.72       29873.00      \n",
       "2  current      M      44   10800.49     3215.52      21659.64      \n",
       "3  saving       M      44   20936.00     0.00         2094.00       \n",
       "4  saving       F      35   1183.83      0.00         3656.29       \n",
       "\n",
       "   dc_cons_may  cc_cons_jun  dc_cons_jun  cc_count_apr  cc_count_may  \\\n",
       "0  0.0          622.0        0.00         2.0           1.0            \n",
       "1  0.0          1087.0       2806.24      11.0          14.0           \n",
       "2  1607.0       1168.0       355.00       6.0           9.0            \n",
       "3  0.0          11778.5      0.00         9.0           6.0            \n",
       "4  0.0          945.0        0.00         2.0           7.0            \n",
       "\n",
       "   cc_count_jun  dc_count_apr  dc_count_may  dc_count_jun  card_lim  \\\n",
       "0  3.0           0.0           0.0           0.0           150000.0   \n",
       "1  11.0          1.0           0.0           6.0           176000.0   \n",
       "2  6.0           3.0           2.0           14.0          65000.0    \n",
       "3  6.0           0.0           0.0           0.0           600000.0   \n",
       "4  9.0           0.0           0.0           0.0           100000.0   \n",
       "\n",
       "  personal_loan_active vehicle_loan_active personal_loan_closed  \\\n",
       "0  0.0                  0.0                 0.0                   \n",
       "1  0.0                  0.0                 1.0                   \n",
       "2  0.0                  0.0                 0.0                   \n",
       "3  0.0                  0.0                 0.0                   \n",
       "4  0.0                  0.0                 0.0                   \n",
       "\n",
       "  vehicle_loan_closed  debit_amount_apr  credit_amount_apr  debit_count_apr  \\\n",
       "0  0.0                 51205.47          50259.0            3.0               \n",
       "1  0.0                 159050.76         169812.0           20.0              \n",
       "2  0.0                 51484.55          38942.0            16.0              \n",
       "3  0.0                 1981.07           2294.0             2.0               \n",
       "4  0.0                 6462.00           10271.0            6.0               \n",
       "\n",
       "   credit_count_apr  max_credit_amount_apr  debit_amount_may  \\\n",
       "0  1.0               50000.0                24740.22           \n",
       "1  9.0               70000.0                103102.85          \n",
       "2  4.0               11700.0                15283.00           \n",
       "3  1.0               2000.0                 19361.24           \n",
       "4  1.0               10000.0                7461.00            \n",
       "\n",
       "   credit_amount_may  credit_count_may  debit_count_may  \\\n",
       "0  114252.0           3.0               2.0               \n",
       "1  174606.0           6.0               10.0              \n",
       "2  23051.0            2.0               7.0               \n",
       "3  19529.0            1.0               1.0               \n",
       "4  3194.0             2.0               3.0               \n",
       "\n",
       "   max_credit_amount_may  debit_amount_jun  credit_amount_jun  \\\n",
       "0  45000.0                20215.85          1279.37             \n",
       "1  150000.0               122037.66         55390.00            \n",
       "2  13800.0                46827.00          29297.91            \n",
       "3  19300.0                5426.55           7544.00             \n",
       "4  3000.0                 26178.05          53483.00            \n",
       "\n",
       "   credit_count_jun  debit_count_jun  max_credit_amount_jun loan_enq  \\\n",
       "0  7.0               3.0              470.0                  N         \n",
       "1  8.0               19.0             27000.0                N         \n",
       "2  6.0               19.0             20800.0                N         \n",
       "3  3.0               1.0              5300.0                 N         \n",
       "4  4.0               4.0              45000.0                N         \n",
       "\n",
       "   emi_active  \n",
       "0  0.00        \n",
       "1  4963.33     \n",
       "2  0.00        \n",
       "3  1238.18     \n",
       "4  0.00        "
      ]
     },
     "execution_count": 12,
     "metadata": {},
     "output_type": "execute_result"
    },
    {
     "data": {
      "text/plain": [
       "0    435  \n",
       "1    1921 \n",
       "2    1970 \n",
       "3    21579\n",
       "4    1814 \n",
       "Name: cc_cons, dtype: int64"
      ]
     },
     "execution_count": 12,
     "metadata": {},
     "output_type": "execute_result"
    }
   ],
   "source": [
    "# split df into x and y for train_test_split\n",
    "df_X=df.drop(columns=['cc_cons','region_code'])\n",
    "df_X.head()\n",
    "df_Y=df['cc_cons']\n",
    "df_Y.head()"
   ]
  },
  {
   "cell_type": "code",
   "execution_count": 13,
   "metadata": {
    "ExecuteTime": {
     "end_time": "2019-10-14T20:29:22.530088Z",
     "start_time": "2019-10-14T20:29:22.286929Z"
    },
    "hidden": true
   },
   "outputs": [],
   "source": [
    "# create calculated fields\n",
    "# Total dc and cc cons for 3 months\n",
    "df_X['cc_cons_sum']= df_X['cc_cons_apr'] + df_X['cc_cons_may'] + df_X['cc_cons_jun']\n",
    "df_X['dc_cons_sum']= df_X['dc_cons_apr']+ df_X['dc_cons_may'] + df_X['dc_cons_jun']\n",
    "# Total dc and cc count for 3 months\n",
    "df_X['cc_count_sum'] = df_X['cc_count_apr'] + df_X['cc_count_may'] + df_X['cc_count_jun']\n",
    "df_X['dc_count_sum'] = df_X['dc_count_apr'] + df_X['dc_count_may'] + df_X['dc_count_jun']\n",
    "# Total dc and cc cons average for 3 months\n",
    "df_X['cc_cons_avg'] = 0\n",
    "df_X.loc[df_X.cc_count_sum != 0,'cc_cons_avg'] = df_X.loc[df_X.cc_count_sum != 0,'cc_cons_sum']/df_X.loc[df_X.cc_count_sum != 0,'cc_count_sum']\n",
    "df_X['dc_cons_avg'] = 0\n",
    "df_X.loc[df_X.dc_count_sum != 0,'dc_cons_avg'] = df_X.loc[df_X.dc_count_sum != 0,'dc_cons_sum']/df_X.loc[df_X.dc_count_sum != 0,'dc_count_sum']\n",
    "# Average dc cons for each month\n",
    "df_X['dc_cons_apr_avg']= 0\n",
    "df_X.loc[df_X.dc_count_apr != 0,'dc_cons_apr_avg'] = df_X.loc[df_X.dc_count_apr != 0,'dc_cons_apr']/df_X.loc[df_X.dc_count_apr != 0,'dc_count_apr']\n",
    "df_X['dc_cons_may_avg'] = 0\n",
    "df_X.loc[df_X.dc_count_may != 0,'dc_cons_may_avg'] = df_X.loc[df_X.dc_count_may != 0,'dc_cons_may']/df_X.loc[df_X.dc_count_may != 0,'dc_count_may']\n",
    "df_X['dc_cons_jun_avg']= 0\n",
    "df_X.loc[df_X.dc_count_jun != 0,'dc_cons_jun_avg'] = df_X.loc[df_X.dc_count_jun != 0,'dc_cons_jun']/df_X.loc[df_X.dc_count_jun != 0,'dc_count_jun']\n",
    "# Average cc cons for each month\n",
    "df_X['cc_cons_apr_avg'] = 0\n",
    "df_X.loc[df_X.cc_count_apr != 0,'cc_cons_apr_avg'] = df_X.loc[df_X.cc_count_apr != 0,'cc_cons_apr']/df_X.loc[df_X.cc_count_apr != 0,'cc_count_apr']\n",
    "df_X['cc_cons_may_avg'] = 0\n",
    "df_X.loc[df_X.cc_count_may != 0,'cc_cons_may_avg'] = df_X.loc[df_X.cc_count_may != 0,'cc_cons_may']/df_X.loc[df_X.cc_count_may != 0,'cc_count_may']\n",
    "df_X['cc_cons_jun_avg'] = 0\n",
    "df_X.loc[df_X.cc_count_jun != 0,'cc_cons_jun_avg'] = df_X.loc[df_X.cc_count_jun != 0,'cc_cons_jun']/df_X.loc[df_X.cc_count_jun != 0,'cc_count_jun']"
   ]
  },
  {
   "cell_type": "code",
   "execution_count": 14,
   "metadata": {
    "ExecuteTime": {
     "end_time": "2019-10-14T20:29:22.709124Z",
     "start_time": "2019-10-14T20:29:22.531445Z"
    },
    "hidden": true
   },
   "outputs": [],
   "source": [
    "# Total credit and debit amount for 3 months\n",
    "df_X['credit_amount_sum'] = df_X.credit_amount_apr + df_X.credit_amount_may + df_X.credit_amount_jun\n",
    "df_X['debit_amount_sum'] = df_X.debit_amount_apr + df_X.debit_amount_may + df_X.debit_amount_jun\n",
    "# Total credit and debit count for 3 months\n",
    "df_X['credit_count_sum'] = df_X.credit_count_apr + df_X.credit_count_may + df_X.credit_count_jun\n",
    "df_X['debit_count_sum'] = df_X.debit_count_apr + df_X.debit_count_may + df_X.debit_count_jun\n",
    "# Total credit and debit amount average for 3 months\n",
    "df_X['credit_amount_avg'] = 0\n",
    "df_X.loc[df_X.credit_count_sum != 0,'credit_amount_avg'] = df_X.loc[df_X.credit_count_sum != 0,'credit_amount_sum']/df_X.loc[df_X.credit_count_sum != 0,'credit_count_sum']\n",
    "df_X['debit_amount_avg'] = 0\n",
    "df_X.loc[df_X.debit_count_sum != 0,'debit_amount_avg'] = df_X.loc[df_X.debit_count_sum != 0,'debit_amount_sum']/df_X.loc[df_X.debit_count_sum != 0,'debit_count_sum']\n",
    "# average debit amount for each month\n",
    "df_X['debit_amount_apr_avg']= 0\n",
    "df_X.loc[df_X.debit_count_apr != 0,'debit_amount_apr_avg'] = df_X.loc[df_X.debit_count_apr != 0,'debit_amount_apr']/df_X.loc[df_X.debit_count_apr != 0,'debit_count_apr']\n",
    "df_X['debit_amount_may_avg'] = 0\n",
    "df_X.loc[df_X.debit_count_may != 0,'debit_amount_may_avg'] = df_X.loc[df_X.debit_count_may != 0,'debit_amount_may']/df_X.loc[df_X.debit_count_may != 0,'debit_count_may']\n",
    "df_X['debit_amount_jun_avg'] = 0\n",
    "df_X.loc[df_X.debit_count_jun != 0,'debit_amount_jun_avg'] = df_X.loc[df_X.debit_count_jun != 0,'debit_amount_jun']/df_X.loc[df_X.debit_count_jun != 0,'debit_count_jun']\n",
    "# average credit amount for each month\n",
    "df_X['credit_amount_apr_avg'] = 0\n",
    "df_X.loc[df_X.credit_count_apr != 0,'credit_amount_apr_avg'] = df_X.loc[df_X.credit_count_apr != 0,'credit_amount_apr']/df_X.loc[df_X.credit_count_apr != 0,'credit_count_apr']\n",
    "df_X['credit_amount_may_avg'] = 0\n",
    "df_X.loc[df_X.credit_count_may != 0,'credit_amount_may_avg'] = df_X.loc[df_X.credit_count_may != 0,'credit_amount_may']/df_X.loc[df_X.credit_count_may != 0,'credit_count_may']\n",
    "df_X['credit_amount_jun_avg'] = 0\n",
    "df_X.loc[df_X.credit_count_jun != 0,'credit_amount_jun_avg'] = df_X.loc[df_X.credit_count_jun != 0,'credit_amount_jun']/df_X.loc[df_X.credit_count_jun != 0,'credit_count_jun']"
   ]
  },
  {
   "cell_type": "code",
   "execution_count": 15,
   "metadata": {
    "ExecuteTime": {
     "end_time": "2019-10-14T20:29:22.814851Z",
     "start_time": "2019-10-14T20:29:22.711060Z"
    },
    "hidden": true
   },
   "outputs": [],
   "source": [
    "# percentage credit amount per month\n",
    "df_X['perc_credit_amount_apr'] = 0\n",
    "df_X.loc[df_X.max_credit_amount_apr!= 0,'perc_credit_amount_apr'] = df_X.loc[df_X.max_credit_amount_apr!= 0,'credit_amount_apr']/df_X.loc[df_X.max_credit_amount_apr!= 0,'max_credit_amount_apr']\n",
    "df_X['perc_credit_amount_may'] = 0\n",
    "df_X.loc[df_X.max_credit_amount_may!= 0,'perc_credit_amount_may'] = df_X.loc[df_X.max_credit_amount_may!= 0,'credit_amount_may']/df_X.loc[df_X.max_credit_amount_may!= 0,'max_credit_amount_may']\n",
    "df_X['perc_credit_amount_jun'] = 0\n",
    "df_X.loc[df_X.max_credit_amount_jun!= 0,'perc_credit_amount_jun'] = df_X.loc[df_X.max_credit_amount_jun!= 0,'credit_amount_jun']/df_X.loc[df_X.max_credit_amount_jun!= 0,'max_credit_amount_jun']"
   ]
  },
  {
   "cell_type": "code",
   "execution_count": 16,
   "metadata": {
    "ExecuteTime": {
     "end_time": "2019-10-14T20:29:22.998889Z",
     "start_time": "2019-10-14T20:29:22.820270Z"
    },
    "hidden": true
   },
   "outputs": [],
   "source": [
    "# proportion of debit and credit consumptions per month\n",
    "df_X['cc_cons_apr_prop'] = 0\n",
    "df_X.loc[df_X.cc_cons_sum!= 0,'cc_cons_apr_prop'] = df_X.loc[df_X.cc_cons_sum!= 0,'cc_cons_apr']/df_X.loc[df_X.cc_cons_sum != 0,'cc_cons_sum']\n",
    "df_X['cc_cons_may_prop'] = 0\n",
    "df_X.loc[df_X.cc_cons_sum != 0,'cc_cons_may_prop'] = df_X.loc[df_X.cc_cons_sum != 0,'cc_cons_may']/df_X.loc[df_X.cc_cons_sum != 0,'cc_cons_sum']\n",
    "df_X['cc_cons_jun_prop'] = 0\n",
    "df_X.loc[df_X.cc_cons_sum != 0,'cc_cons_jun_prop'] = df_X.loc[df_X.cc_cons_sum != 0,'cc_cons_jun']/df_X.loc[df_X.cc_cons_sum != 0,'cc_cons_sum']\n",
    "df_X['dc_cons_apr_prop'] = 0\n",
    "df_X.loc[df_X.dc_cons_sum != 0,'dc_cons_apr_prop'] = df_X.loc[df_X.dc_cons_sum != 0,'dc_cons_apr']/df_X.loc[df_X.dc_cons_sum != 0,'dc_cons_sum']\n",
    "df_X['dc_cons_may_prop'] = 0\n",
    "df_X.loc[df_X.dc_cons_sum != 0,'dc_cons_may_prop'] = df_X.loc[df_X.dc_cons_sum != 0,'dc_cons_may']/df_X.loc[df_X.dc_cons_sum != 0,'dc_cons_sum']\n",
    "df_X['dc_cons_jun_prop'] = 0\n",
    "df_X.loc[df_X.dc_cons_sum != 0,'dc_cons_jun_prop'] = df_X.loc[df_X.dc_cons_sum != 0,'dc_cons_jun']/df_X.loc[df_X.dc_cons_sum != 0,'dc_cons_sum']"
   ]
  },
  {
   "cell_type": "code",
   "execution_count": 17,
   "metadata": {
    "ExecuteTime": {
     "end_time": "2019-10-14T20:29:23.175647Z",
     "start_time": "2019-10-14T20:29:23.000646Z"
    },
    "hidden": true
   },
   "outputs": [],
   "source": [
    "# proportion of debit and credit amounts per month\n",
    "df_X['credit_amount_apr_prop'] = 0\n",
    "df_X.loc[df_X.credit_amount_sum != 0,'credit_amount_apr_prop'] = df_X.loc[df_X.credit_amount_sum != 0,'credit_amount_apr']/df_X.loc[df_X.credit_amount_sum != 0,'credit_amount_sum']\n",
    "df_X['credit_amount_may_prop'] = 0\n",
    "df_X.loc[df_X.credit_amount_sum != 0,'credit_amount_may_prop'] = df_X.loc[df_X.credit_amount_sum != 0,'credit_amount_may']/df_X.loc[df_X.credit_amount_sum != 0,'credit_amount_sum']\n",
    "df_X['credit_amount_jun_prop'] = 0\n",
    "df_X.loc[df_X.credit_amount_sum != 0,'credit_amount_jun_prop'] = df_X.loc[df_X.credit_amount_sum != 0,'credit_amount_jun']/df_X.loc[df_X.credit_amount_sum != 0,'credit_amount_sum']\n",
    "df_X['debit_amount_apr_prop'] = 0\n",
    "df_X.loc[df_X.debit_amount_sum != 0,'debit_amount_apr_prop'] = df_X.loc[df_X.debit_amount_sum != 0,'debit_amount_apr']/df_X.loc[df_X.debit_amount_sum != 0,'debit_amount_sum']\n",
    "df_X['debit_amount_may_prop'] = 0\n",
    "df_X.loc[df_X.debit_amount_sum != 0,'debit_amount_may_prop'] = df_X.loc[df_X.debit_amount_sum != 0,'debit_amount_may']/df_X.loc[df_X.debit_amount_sum != 0,'debit_amount_sum']\n",
    "df_X['debit_amount_jun_prop'] = 0\n",
    "df_X.loc[df_X.debit_amount_sum != 0,'debit_amount_jun_prop'] = df_X.loc[df_X.debit_amount_sum != 0,'debit_amount_jun']/df_X.loc[df_X.debit_amount_sum != 0,'debit_amount_sum']"
   ]
  },
  {
   "cell_type": "code",
   "execution_count": 18,
   "metadata": {
    "ExecuteTime": {
     "end_time": "2019-10-14T20:29:23.403433Z",
     "start_time": "2019-10-14T20:29:23.177411Z"
    },
    "hidden": true
   },
   "outputs": [],
   "source": [
    "# debit by credit cons and amount ratios\n",
    "df_X['d_by_c_cons_ratio_apr'] = 0\n",
    "df_X.loc[df_X.cc_cons_apr != 0,'d_by_c_cons_ratio_apr'] = df_X.loc[df_X.cc_cons_apr != 0,'dc_cons_apr']/df_X.loc[df_X.cc_cons_apr != 0,'cc_cons_apr']\n",
    "df_X['d_by_c_cons_ratio_may'] = 0\n",
    "df_X.loc[df_X.cc_cons_may != 0,'d_by_c_cons_ratio_may'] = df_X.loc[df_X.cc_cons_may != 0,'dc_cons_may']/df_X.loc[df_X.cc_cons_may != 0,'cc_cons_may']\n",
    "df_X['d_by_c_cons_ratio_jun'] = 0\n",
    "df_X.loc[df_X.cc_cons_jun != 0,'d_by_c_cons_ratio_jun'] = df_X.loc[df_X.cc_cons_jun != 0,'dc_cons_jun']/df_X.loc[df_X.cc_cons_jun != 0,'cc_cons_jun']\n",
    "df_X['d_by_c_amount_ratio_apr'] = 0\n",
    "df_X.loc[df_X.credit_amount_apr != 0,'d_by_c_amount_ratio_apr'] = df_X.loc[df_X.credit_amount_apr != 0,'debit_amount_apr']/df_X.loc[df_X.credit_amount_apr != 0,'credit_amount_apr']\n",
    "df_X['d_by_c_amount_ratio_may'] = 0\n",
    "df_X.loc[df_X.credit_amount_may != 0,'d_by_c_amount_ratio_may'] = df_X.loc[df_X.credit_amount_may != 0,'debit_amount_may']/df_X.loc[df_X.credit_amount_may != 0,'credit_amount_may']\n",
    "df_X['d_by_c_amount_ratio_jun'] = 0\n",
    "df_X.loc[df_X.credit_amount_jun != 0,'d_by_c_amount_ratio_jun'] = df_X.loc[df_X.credit_amount_jun != 0,'debit_amount_jun']/df_X.loc[df_X.credit_amount_jun != 0,'credit_amount_jun']"
   ]
  },
  {
   "cell_type": "code",
   "execution_count": 19,
   "metadata": {
    "ExecuteTime": {
     "end_time": "2019-10-14T20:29:23.418460Z",
     "start_time": "2019-10-14T20:29:23.407005Z"
    },
    "hidden": true
   },
   "outputs": [],
   "source": [
    "# convert cc_cons to log to directly optimize RMSLE\n",
    "df_Y=np.log(df_Y+1)"
   ]
  },
  {
   "cell_type": "code",
   "execution_count": 20,
   "metadata": {
    "ExecuteTime": {
     "end_time": "2019-10-14T20:29:23.462495Z",
     "start_time": "2019-10-14T20:29:23.428376Z"
    },
    "hidden": true
   },
   "outputs": [
    {
     "data": {
      "text/plain": [
       "82"
      ]
     },
     "execution_count": 20,
     "metadata": {},
     "output_type": "execute_result"
    },
    {
     "data": {
      "text/plain": [
       "Index(['account_type', 'gender', 'age', 'cc_cons_apr', 'dc_cons_apr',\n",
       "       'cc_cons_may', 'dc_cons_may', 'cc_cons_jun', 'dc_cons_jun',\n",
       "       'cc_count_apr', 'cc_count_may', 'cc_count_jun', 'dc_count_apr',\n",
       "       'dc_count_may', 'dc_count_jun', 'card_lim', 'personal_loan_active',\n",
       "       'vehicle_loan_active', 'personal_loan_closed', 'vehicle_loan_closed',\n",
       "       'debit_amount_apr', 'credit_amount_apr', 'debit_count_apr',\n",
       "       'credit_count_apr', 'max_credit_amount_apr', 'debit_amount_may',\n",
       "       'credit_amount_may', 'credit_count_may', 'debit_count_may',\n",
       "       'max_credit_amount_may', 'debit_amount_jun', 'credit_amount_jun',\n",
       "       'credit_count_jun', 'debit_count_jun', 'max_credit_amount_jun',\n",
       "       'loan_enq', 'emi_active', 'cc_cons_sum', 'dc_cons_sum', 'cc_count_sum',\n",
       "       'dc_count_sum', 'cc_cons_avg', 'dc_cons_avg', 'dc_cons_apr_avg',\n",
       "       'dc_cons_may_avg', 'dc_cons_jun_avg', 'cc_cons_apr_avg',\n",
       "       'cc_cons_may_avg', 'cc_cons_jun_avg', 'credit_amount_sum',\n",
       "       'debit_amount_sum', 'credit_count_sum', 'debit_count_sum',\n",
       "       'credit_amount_avg', 'debit_amount_avg', 'debit_amount_apr_avg',\n",
       "       'debit_amount_may_avg', 'debit_amount_jun_avg', 'credit_amount_apr_avg',\n",
       "       'credit_amount_may_avg', 'credit_amount_jun_avg',\n",
       "       'perc_credit_amount_apr', 'perc_credit_amount_may',\n",
       "       'perc_credit_amount_jun', 'cc_cons_apr_prop', 'cc_cons_may_prop',\n",
       "       'cc_cons_jun_prop', 'dc_cons_apr_prop', 'dc_cons_may_prop',\n",
       "       'dc_cons_jun_prop', 'credit_amount_apr_prop', 'credit_amount_may_prop',\n",
       "       'credit_amount_jun_prop', 'debit_amount_apr_prop',\n",
       "       'debit_amount_may_prop', 'debit_amount_jun_prop',\n",
       "       'd_by_c_cons_ratio_apr', 'd_by_c_cons_ratio_may',\n",
       "       'd_by_c_cons_ratio_jun', 'd_by_c_amount_ratio_apr',\n",
       "       'd_by_c_amount_ratio_may', 'd_by_c_amount_ratio_jun'],\n",
       "      dtype='object')"
      ]
     },
     "execution_count": 20,
     "metadata": {},
     "output_type": "execute_result"
    }
   ],
   "source": [
    "len(df_X.columns)\n",
    "df_X.columns"
   ]
  },
  {
   "cell_type": "markdown",
   "metadata": {
    "heading_collapsed": true
   },
   "source": [
    "# Train and Test Split"
   ]
  },
  {
   "cell_type": "code",
   "execution_count": 21,
   "metadata": {
    "ExecuteTime": {
     "end_time": "2019-10-14T20:29:23.638682Z",
     "start_time": "2019-10-14T20:29:23.464741Z"
    },
    "hidden": true
   },
   "outputs": [],
   "source": [
    "# generate dummy values\n",
    "df_X=pd.get_dummies(df_X,drop_first=True)"
   ]
  },
  {
   "cell_type": "code",
   "execution_count": 22,
   "metadata": {
    "ExecuteTime": {
     "end_time": "2019-10-14T20:29:23.674674Z",
     "start_time": "2019-10-14T20:29:23.640714Z"
    },
    "hidden": true
   },
   "outputs": [],
   "source": [
    "X_train,X_test,Y_train,Y_test=train_test_split(df_X,df_Y,test_size=0.25,random_state=33)"
   ]
  },
  {
   "cell_type": "markdown",
   "metadata": {
    "heading_collapsed": true
   },
   "source": [
    "# Modeling"
   ]
  },
  {
   "cell_type": "markdown",
   "metadata": {
    "heading_collapsed": true,
    "hidden": true
   },
   "source": [
    "## Linear Regression"
   ]
  },
  {
   "cell_type": "code",
   "execution_count": 23,
   "metadata": {
    "ExecuteTime": {
     "end_time": "2019-10-14T20:29:23.828843Z",
     "start_time": "2019-10-14T20:29:23.677839Z"
    },
    "hidden": true
   },
   "outputs": [
    {
     "name": "stdout",
     "output_type": "stream",
     "text": [
      "train RMSLE: 120.13\n",
      "test RMSLE: 119.64\n"
     ]
    }
   ],
   "source": [
    "# linear regression with scikit learn\n",
    "lin_model=LinearRegression()\n",
    "lin_model.fit(X_train,Y_train)\n",
    "print('train RMSLE:',round(np.sqrt(mean_squared_error(Y_train,lin_model.predict(X_train)))*100,2))\n",
    "print('test RMSLE:',round(np.sqrt(mean_squared_error(Y_test,lin_model.predict(X_test)))*100,2));"
   ]
  },
  {
   "cell_type": "markdown",
   "metadata": {
    "heading_collapsed": true,
    "hidden": true
   },
   "source": [
    "## Decision Trees"
   ]
  },
  {
   "cell_type": "code",
   "execution_count": 24,
   "metadata": {
    "ExecuteTime": {
     "end_time": "2019-10-14T20:29:30.889618Z",
     "start_time": "2019-10-14T20:29:23.831189Z"
    },
    "hidden": true,
    "scrolled": true
   },
   "outputs": [],
   "source": [
    "# hyper parameter tuning of decision tree with randomized search cv\n",
    "dec_model=DecisionTreeRegressor(random_state=33)\n",
    "param_grid=dict(max_depth=range(5,20),min_samples_split=range(50,200,10),min_samples_leaf=range(25,100,10),max_leaf_nodes=range(8,32,2),min_impurity_decrease=(0.3,1.0,0.1))\n",
    "grid=RandomizedSearchCV(dec_model,param_grid,scoring='neg_mean_squared_error',n_jobs=4,cv=5,random_state=33)\n",
    "grid.fit(X_train,Y_train);"
   ]
  },
  {
   "cell_type": "code",
   "execution_count": 25,
   "metadata": {
    "ExecuteTime": {
     "end_time": "2019-10-14T20:29:30.898142Z",
     "start_time": "2019-10-14T20:29:30.892093Z"
    },
    "hidden": true
   },
   "outputs": [
    {
     "data": {
      "text/plain": [
       "{'min_samples_split': 140,\n",
       " 'min_samples_leaf': 45,\n",
       " 'min_impurity_decrease': 0.1,\n",
       " 'max_leaf_nodes': 20,\n",
       " 'max_depth': 5}"
      ]
     },
     "execution_count": 25,
     "metadata": {},
     "output_type": "execute_result"
    }
   ],
   "source": [
    "# get best parameters\n",
    "grid.best_params_"
   ]
  },
  {
   "cell_type": "code",
   "execution_count": 26,
   "metadata": {
    "ExecuteTime": {
     "end_time": "2019-10-14T20:29:30.919471Z",
     "start_time": "2019-10-14T20:29:30.900430Z"
    },
    "hidden": true
   },
   "outputs": [
    {
     "name": "stdout",
     "output_type": "stream",
     "text": [
      "train RMSLE: 125.44\n",
      "test RMSLE: 123.74\n"
     ]
    }
   ],
   "source": [
    "# take the best model \n",
    "dec_model=grid.best_estimator_\n",
    "print('train RMSLE:',round(np.sqrt(mean_squared_error(Y_train,dec_model.predict(X_train)))*100,2))\n",
    "print('test RMSLE:',round(np.sqrt(mean_squared_error(Y_test,dec_model.predict(X_test)))*100,2));"
   ]
  },
  {
   "cell_type": "markdown",
   "metadata": {
    "heading_collapsed": true,
    "hidden": true
   },
   "source": [
    "## Neural Network"
   ]
  },
  {
   "cell_type": "code",
   "execution_count": 27,
   "metadata": {
    "ExecuteTime": {
     "end_time": "2019-10-14T20:47:18.544935Z",
     "start_time": "2019-10-14T20:29:30.922904Z"
    },
    "hidden": true
   },
   "outputs": [],
   "source": [
    "# hyper parameter tuning of neural networks with randomized search cv\n",
    "neu_model=MLPRegressor(learning_rate_init=0.01,learning_rate='adaptive',activation='relu',random_state=33)\n",
    "param_grid={'hidden_layer_sizes':[(100,100,100),(100,75,50,25)],'alpha':range(1,10,1)}\n",
    "grid=RandomizedSearchCV(neu_model,param_grid,scoring='neg_mean_squared_error',cv=5,n_jobs=-1,random_state=33)\n",
    "grid.fit(X_train,Y_train);"
   ]
  },
  {
   "cell_type": "code",
   "execution_count": 28,
   "metadata": {
    "ExecuteTime": {
     "end_time": "2019-10-14T20:47:18.552338Z",
     "start_time": "2019-10-14T20:47:18.547454Z"
    },
    "hidden": true
   },
   "outputs": [
    {
     "name": "stdout",
     "output_type": "stream",
     "text": [
      "{'hidden_layer_sizes': (100, 75, 50, 25), 'alpha': 3}\n"
     ]
    }
   ],
   "source": [
    "# get best parameters\n",
    "print(grid.best_params_)"
   ]
  },
  {
   "cell_type": "code",
   "execution_count": 29,
   "metadata": {
    "ExecuteTime": {
     "end_time": "2019-10-14T20:47:18.669557Z",
     "start_time": "2019-10-14T20:47:18.554619Z"
    },
    "hidden": true
   },
   "outputs": [
    {
     "name": "stdout",
     "output_type": "stream",
     "text": [
      "train RMSLE: 466.74\n",
      "test RMSLE: 464.22\n"
     ]
    }
   ],
   "source": [
    "# take the best model \n",
    "neu_model=grid.best_estimator_\n",
    "print('train RMSLE:',round(np.sqrt(mean_squared_error(Y_train,neu_model.predict(X_train)))*100,2))\n",
    "print('test RMSLE:',round(np.sqrt(mean_squared_error(Y_test,neu_model.predict(X_test)))*100,2));"
   ]
  },
  {
   "cell_type": "markdown",
   "metadata": {
    "heading_collapsed": true,
    "hidden": true
   },
   "source": [
    "## Random Forest"
   ]
  },
  {
   "cell_type": "code",
   "execution_count": 30,
   "metadata": {
    "ExecuteTime": {
     "end_time": "2019-10-14T20:52:45.499501Z",
     "start_time": "2019-10-14T20:47:18.671382Z"
    },
    "hidden": true,
    "scrolled": true
   },
   "outputs": [],
   "source": [
    "# hyper parameter tuning of random forest with randomized search cv\n",
    "rf_model=RandomForestRegressor(random_state=33)\n",
    "param_grid=dict(n_estimators=range(10,100,10),max_depth=range(3,20),min_samples_split=range(50,500,20),min_samples_leaf=range(25,75,10),max_leaf_nodes=range(8,32,2))\n",
    "grid=RandomizedSearchCV(rf_model,param_grid,scoring='neg_mean_squared_error',n_jobs=-1,cv=5,random_state=33)\n",
    "grid.fit(X_train,Y_train);"
   ]
  },
  {
   "cell_type": "code",
   "execution_count": 31,
   "metadata": {
    "ExecuteTime": {
     "end_time": "2019-10-14T20:52:45.509513Z",
     "start_time": "2019-10-14T20:52:45.501234Z"
    },
    "hidden": true
   },
   "outputs": [
    {
     "data": {
      "text/plain": [
       "-1.4005300539796115"
      ]
     },
     "execution_count": 31,
     "metadata": {},
     "output_type": "execute_result"
    },
    {
     "name": "stdout",
     "output_type": "stream",
     "text": [
      "{'n_estimators': 70, 'min_samples_split': 70, 'min_samples_leaf': 25, 'max_leaf_nodes': 28, 'max_depth': 18}\n"
     ]
    }
   ],
   "source": [
    "# get best score and parameters\n",
    "grid.best_score_\n",
    "print(grid.best_params_)"
   ]
  },
  {
   "cell_type": "code",
   "execution_count": 32,
   "metadata": {
    "ExecuteTime": {
     "end_time": "2019-10-14T20:52:45.601355Z",
     "start_time": "2019-10-14T20:52:45.511303Z"
    },
    "hidden": true
   },
   "outputs": [
    {
     "name": "stdout",
     "output_type": "stream",
     "text": [
      "train RMSLE: 116.79\n",
      "test RMSLE: 116.91\n"
     ]
    }
   ],
   "source": [
    "# take the best model \n",
    "rf_model=grid.best_estimator_\n",
    "print('train RMSLE:',round(np.sqrt(mean_squared_error(Y_train,rf_model.predict(X_train)))*100,2))\n",
    "print('test RMSLE:',round(np.sqrt(mean_squared_error(Y_test,rf_model.predict(X_test)))*100,2));"
   ]
  },
  {
   "cell_type": "markdown",
   "metadata": {
    "heading_collapsed": true,
    "hidden": true
   },
   "source": [
    "## KNN"
   ]
  },
  {
   "cell_type": "code",
   "execution_count": 33,
   "metadata": {
    "ExecuteTime": {
     "end_time": "2019-10-14T20:52:45.758706Z",
     "start_time": "2019-10-14T20:52:45.602805Z"
    },
    "hidden": true
   },
   "outputs": [],
   "source": [
    "knn_model=KNeighborsRegressor(n_neighbors=5,weights='distance',algorithm='ball_tree',metric='minkowski',n_jobs=-1)\n",
    "knn_model.fit(X_train,Y_train);"
   ]
  },
  {
   "cell_type": "code",
   "execution_count": 34,
   "metadata": {
    "ExecuteTime": {
     "end_time": "2019-10-14T20:53:15.790555Z",
     "start_time": "2019-10-14T20:52:45.760640Z"
    },
    "hidden": true,
    "scrolled": true
   },
   "outputs": [
    {
     "name": "stdout",
     "output_type": "stream",
     "text": [
      "train RMSLE: 0.0\n",
      "test RMSLE: 129.64\n"
     ]
    }
   ],
   "source": [
    "print('train RMSLE:',round(np.sqrt(mean_squared_error(Y_train,knn_model.predict(X_train)))*100,2))\n",
    "print('test RMSLE:',round(np.sqrt(mean_squared_error(Y_test,knn_model.predict(X_test)))*100,2));"
   ]
  },
  {
   "cell_type": "markdown",
   "metadata": {
    "heading_collapsed": true,
    "hidden": true
   },
   "source": [
    "## XGBoost"
   ]
  },
  {
   "cell_type": "code",
   "execution_count": 35,
   "metadata": {
    "ExecuteTime": {
     "end_time": "2019-10-14T21:08:45.231183Z",
     "start_time": "2019-10-14T20:53:15.792435Z"
    },
    "hidden": true
   },
   "outputs": [],
   "source": [
    "# hyper parameter tuning of xgboost with randomized search cv\n",
    "xgb_model=XGBRegressor(objective='reg:squarederror',n_jobs=-1)\n",
    "param_grid={'max_depth':range(5,15,3),'learning_rate':np.arange(0.01,0.3,0.01),'n_estimators':range(100,200,10),'min_child_weight':range(1,15,2),'reg_lambda':range(0,5,1),'subsample':np.arange(60,110,10)/100,'colsample_bylevel':np.arange(60,110,10)/100,'colsample_bytree':np.arange(60,110,10)/100,'colsample_bynode':np.arange(60,110,10)/100,'scale_pos_weight':np.arange(1,15,1)}\n",
    "grid=RandomizedSearchCV(xgb_model,param_grid,scoring='neg_mean_squared_error',cv=5,random_state=33)\n",
    "grid.fit(X_train,Y_train);"
   ]
  },
  {
   "cell_type": "code",
   "execution_count": 36,
   "metadata": {
    "ExecuteTime": {
     "end_time": "2019-10-14T21:08:45.238448Z",
     "start_time": "2019-10-14T21:08:45.232954Z"
    },
    "hidden": true
   },
   "outputs": [
    {
     "name": "stdout",
     "output_type": "stream",
     "text": [
      "{'subsample': 0.8, 'scale_pos_weight': 1, 'reg_lambda': 3, 'n_estimators': 110, 'min_child_weight': 9, 'max_depth': 5, 'learning_rate': 0.09999999999999999, 'colsample_bytree': 1.0, 'colsample_bynode': 0.6, 'colsample_bylevel': 0.8}\n"
     ]
    }
   ],
   "source": [
    "# get best score and parameters\n",
    "print(grid.best_params_)"
   ]
  },
  {
   "cell_type": "code",
   "execution_count": 37,
   "metadata": {
    "ExecuteTime": {
     "end_time": "2019-10-14T21:08:45.495689Z",
     "start_time": "2019-10-14T21:08:45.240662Z"
    },
    "code_folding": [],
    "hidden": true
   },
   "outputs": [
    {
     "name": "stdout",
     "output_type": "stream",
     "text": [
      "train RMSLE: 107.46\n",
      "test RMSLE: 115.27\n"
     ]
    }
   ],
   "source": [
    "# take the best model \n",
    "xgb_model=grid.best_estimator_\n",
    "print('train RMSLE:',round(np.sqrt(mean_squared_error(Y_train,xgb_model.predict(X_train)))*100,2))\n",
    "print('test RMSLE:',round(np.sqrt(mean_squared_error(Y_test,xgb_model.predict(X_test)))*100,2))"
   ]
  },
  {
   "cell_type": "markdown",
   "metadata": {
    "heading_collapsed": true,
    "hidden": true
   },
   "source": [
    "## Train on Entire Data"
   ]
  },
  {
   "cell_type": "code",
   "execution_count": 42,
   "metadata": {
    "ExecuteTime": {
     "end_time": "2019-10-15T00:49:31.576302Z",
     "start_time": "2019-10-15T00:49:04.563744Z"
    },
    "hidden": true
   },
   "outputs": [
    {
     "name": "stdout",
     "output_type": "stream",
     "text": [
      "Overall RMSLE: 117.14\n"
     ]
    }
   ],
   "source": [
    "# Random Forest\n",
    "rf_model=RandomForestRegressor(random_state=33,n_estimators= 50, min_samples_split= 190, min_samples_leaf= 35, max_leaf_nodes= 26, max_depth= 14)\n",
    "rf_model.fit(df_X,df_Y)\n",
    "print('Overall RMSLE:',round(np.sqrt(mean_squared_error(df_Y,rf_model.predict(df_X)))*100,2));"
   ]
  },
  {
   "cell_type": "code",
   "execution_count": 43,
   "metadata": {
    "ExecuteTime": {
     "end_time": "2019-10-15T00:49:45.266469Z",
     "start_time": "2019-10-15T00:49:32.730173Z"
    },
    "hidden": true
   },
   "outputs": [
    {
     "name": "stdout",
     "output_type": "stream",
     "text": [
      "Overall RMSLE: 108.45\n"
     ]
    }
   ],
   "source": [
    "xgb_model=XGBRegressor(objective='reg:squarederror',subsample= 0.8, scale_pos_weight= 1, reg_lambda= 3, n_estimators= 110, min_child_weight= 9, max_depth= 5, learning_rate= 0.1, colsample_bytree= 1.0,colsample_bynode=0.6,colsample_bylevel=0.8,n_jobs=-1)\n",
    "xgb_model.fit(df_X,df_Y)\n",
    "print('Overall RMSLE:',round(np.sqrt(mean_squared_error(df_Y,xgb_model.predict(df_X)))*100,2));"
   ]
  },
  {
   "cell_type": "markdown",
   "metadata": {
    "heading_collapsed": true,
    "hidden": true
   },
   "source": [
    "## Model Stacking"
   ]
  },
  {
   "cell_type": "code",
   "execution_count": 79,
   "metadata": {
    "ExecuteTime": {
     "end_time": "2019-10-15T01:22:47.904202Z",
     "start_time": "2019-10-15T01:15:24.972281Z"
    },
    "code_folding": [],
    "hidden": true
   },
   "outputs": [
    {
     "name": "stdout",
     "output_type": "stream",
     "text": [
      "3-fold cross validation:\n",
      "\n",
      "Accuracy: 118.07 (+/- 0.98) [Random Forest]\n",
      "Accuracy: 116.24 (+/- 0.74) [XGBoost]\n",
      "Accuracy: 116.23 (+/- 0.82) [StackingClassifier]\n"
     ]
    }
   ],
   "source": [
    "lin_model=LinearRegression()\n",
    "sclf = StackingCVClassifier(classifiers=[rf_model,xgb_model],meta_classifier=lin_model,random_state=33)\n",
    "print('3-fold cross validation:\\n')\n",
    "for clf, label in zip([rf_model,xgb_model,sclf],['Random Forest','XGBoost','StackingClassifier']):\n",
    "    scores = np.sqrt(-1*cross_val_score(clf, df_X.values,df_Y.values,cv=5, scoring='neg_mean_squared_error'))*100\n",
    "    print(\"Accuracy: %0.2f (+/- %0.2f) [%s]\"%(scores.mean(), scores.std(),label))"
   ]
  },
  {
   "cell_type": "code",
   "execution_count": 80,
   "metadata": {
    "ExecuteTime": {
     "end_time": "2019-10-15T01:24:02.315517Z",
     "start_time": "2019-10-15T01:22:49.260101Z"
    },
    "hidden": true
   },
   "outputs": [],
   "source": [
    "sclf.fit(df_X,df_Y);"
   ]
  },
  {
   "cell_type": "markdown",
   "metadata": {
    "heading_collapsed": true
   },
   "source": [
    "# Final Predictions"
   ]
  },
  {
   "cell_type": "code",
   "execution_count": 71,
   "metadata": {
    "ExecuteTime": {
     "end_time": "2019-10-15T01:05:15.321826Z",
     "start_time": "2019-10-15T01:05:15.197475Z"
    },
    "hidden": true
   },
   "outputs": [
    {
     "data": {
      "text/plain": [
       "14067"
      ]
     },
     "execution_count": 71,
     "metadata": {},
     "output_type": "execute_result"
    },
    {
     "data": {
      "text/html": [
       "<div>\n",
       "<style scoped>\n",
       "    .dataframe tbody tr th:only-of-type {\n",
       "        vertical-align: middle;\n",
       "    }\n",
       "\n",
       "    .dataframe tbody tr th {\n",
       "        vertical-align: top;\n",
       "    }\n",
       "\n",
       "    .dataframe thead th {\n",
       "        text-align: right;\n",
       "    }\n",
       "</style>\n",
       "<table border=\"1\" class=\"dataframe\">\n",
       "  <thead>\n",
       "    <tr style=\"text-align: right;\">\n",
       "      <th></th>\n",
       "      <th>id</th>\n",
       "      <th>account_type</th>\n",
       "      <th>gender</th>\n",
       "      <th>age</th>\n",
       "      <th>region_code</th>\n",
       "      <th>cc_cons_apr</th>\n",
       "      <th>dc_cons_apr</th>\n",
       "      <th>cc_cons_may</th>\n",
       "      <th>dc_cons_may</th>\n",
       "      <th>cc_cons_jun</th>\n",
       "      <th>dc_cons_jun</th>\n",
       "      <th>cc_count_apr</th>\n",
       "      <th>cc_count_may</th>\n",
       "      <th>cc_count_jun</th>\n",
       "      <th>dc_count_apr</th>\n",
       "      <th>dc_count_may</th>\n",
       "      <th>dc_count_jun</th>\n",
       "      <th>card_lim</th>\n",
       "      <th>personal_loan_active</th>\n",
       "      <th>vehicle_loan_active</th>\n",
       "      <th>personal_loan_closed</th>\n",
       "      <th>vehicle_loan_closed</th>\n",
       "      <th>investment_1</th>\n",
       "      <th>investment_2</th>\n",
       "      <th>investment_3</th>\n",
       "      <th>investment_4</th>\n",
       "      <th>debit_amount_apr</th>\n",
       "      <th>credit_amount_apr</th>\n",
       "      <th>debit_count_apr</th>\n",
       "      <th>credit_count_apr</th>\n",
       "      <th>max_credit_amount_apr</th>\n",
       "      <th>debit_amount_may</th>\n",
       "      <th>credit_amount_may</th>\n",
       "      <th>credit_count_may</th>\n",
       "      <th>debit_count_may</th>\n",
       "      <th>max_credit_amount_may</th>\n",
       "      <th>debit_amount_jun</th>\n",
       "      <th>credit_amount_jun</th>\n",
       "      <th>credit_count_jun</th>\n",
       "      <th>debit_count_jun</th>\n",
       "      <th>max_credit_amount_jun</th>\n",
       "      <th>loan_enq</th>\n",
       "      <th>emi_active</th>\n",
       "    </tr>\n",
       "  </thead>\n",
       "  <tbody>\n",
       "    <tr>\n",
       "      <td>0</td>\n",
       "      <td>6975</td>\n",
       "      <td>saving</td>\n",
       "      <td>M</td>\n",
       "      <td>36</td>\n",
       "      <td>447</td>\n",
       "      <td>17942.70</td>\n",
       "      <td>1170.0</td>\n",
       "      <td>1656.00</td>\n",
       "      <td>NaN</td>\n",
       "      <td>4551.00</td>\n",
       "      <td>NaN</td>\n",
       "      <td>6.0</td>\n",
       "      <td>2.0</td>\n",
       "      <td>6.0</td>\n",
       "      <td>1.0</td>\n",
       "      <td>NaN</td>\n",
       "      <td>NaN</td>\n",
       "      <td>75000.0</td>\n",
       "      <td>NaN</td>\n",
       "      <td>NaN</td>\n",
       "      <td>NaN</td>\n",
       "      <td>1.0</td>\n",
       "      <td>NaN</td>\n",
       "      <td>NaN</td>\n",
       "      <td>NaN</td>\n",
       "      <td>NaN</td>\n",
       "      <td>10806.93</td>\n",
       "      <td>25279.0</td>\n",
       "      <td>7.0</td>\n",
       "      <td>2.0</td>\n",
       "      <td>20000.0</td>\n",
       "      <td>21530.34</td>\n",
       "      <td>15416.52</td>\n",
       "      <td>3.0</td>\n",
       "      <td>7.0</td>\n",
       "      <td>10000.0</td>\n",
       "      <td>17316.44</td>\n",
       "      <td>5154.0</td>\n",
       "      <td>2.0</td>\n",
       "      <td>8.0</td>\n",
       "      <td>5000.0</td>\n",
       "      <td>NaN</td>\n",
       "      <td>0.00</td>\n",
       "    </tr>\n",
       "    <tr>\n",
       "      <td>1</td>\n",
       "      <td>43223</td>\n",
       "      <td>current</td>\n",
       "      <td>M</td>\n",
       "      <td>31</td>\n",
       "      <td>233</td>\n",
       "      <td>44870.36</td>\n",
       "      <td>NaN</td>\n",
       "      <td>34177.00</td>\n",
       "      <td>NaN</td>\n",
       "      <td>25889.21</td>\n",
       "      <td>NaN</td>\n",
       "      <td>13.0</td>\n",
       "      <td>19.0</td>\n",
       "      <td>36.0</td>\n",
       "      <td>NaN</td>\n",
       "      <td>NaN</td>\n",
       "      <td>NaN</td>\n",
       "      <td>116000.0</td>\n",
       "      <td>NaN</td>\n",
       "      <td>NaN</td>\n",
       "      <td>NaN</td>\n",
       "      <td>NaN</td>\n",
       "      <td>NaN</td>\n",
       "      <td>NaN</td>\n",
       "      <td>NaN</td>\n",
       "      <td>NaN</td>\n",
       "      <td>NaN</td>\n",
       "      <td>NaN</td>\n",
       "      <td>NaN</td>\n",
       "      <td>NaN</td>\n",
       "      <td>NaN</td>\n",
       "      <td>NaN</td>\n",
       "      <td>NaN</td>\n",
       "      <td>NaN</td>\n",
       "      <td>NaN</td>\n",
       "      <td>NaN</td>\n",
       "      <td>NaN</td>\n",
       "      <td>NaN</td>\n",
       "      <td>NaN</td>\n",
       "      <td>NaN</td>\n",
       "      <td>NaN</td>\n",
       "      <td>NaN</td>\n",
       "      <td>0.00</td>\n",
       "    </tr>\n",
       "    <tr>\n",
       "      <td>2</td>\n",
       "      <td>45502</td>\n",
       "      <td>current</td>\n",
       "      <td>M</td>\n",
       "      <td>26</td>\n",
       "      <td>823</td>\n",
       "      <td>1073.00</td>\n",
       "      <td>2442.0</td>\n",
       "      <td>4141.00</td>\n",
       "      <td>390.0</td>\n",
       "      <td>6740.29</td>\n",
       "      <td>642.0</td>\n",
       "      <td>3.0</td>\n",
       "      <td>5.0</td>\n",
       "      <td>2.0</td>\n",
       "      <td>8.0</td>\n",
       "      <td>3.0</td>\n",
       "      <td>3.0</td>\n",
       "      <td>40000.0</td>\n",
       "      <td>NaN</td>\n",
       "      <td>NaN</td>\n",
       "      <td>NaN</td>\n",
       "      <td>NaN</td>\n",
       "      <td>NaN</td>\n",
       "      <td>NaN</td>\n",
       "      <td>NaN</td>\n",
       "      <td>NaN</td>\n",
       "      <td>83205.22</td>\n",
       "      <td>105813.0</td>\n",
       "      <td>33.0</td>\n",
       "      <td>5.0</td>\n",
       "      <td>39000.0</td>\n",
       "      <td>90312.48</td>\n",
       "      <td>65227.00</td>\n",
       "      <td>4.0</td>\n",
       "      <td>22.0</td>\n",
       "      <td>26926.0</td>\n",
       "      <td>33981.00</td>\n",
       "      <td>37762.0</td>\n",
       "      <td>3.0</td>\n",
       "      <td>15.0</td>\n",
       "      <td>29352.0</td>\n",
       "      <td>NaN</td>\n",
       "      <td>2885.82</td>\n",
       "    </tr>\n",
       "    <tr>\n",
       "      <td>3</td>\n",
       "      <td>12368</td>\n",
       "      <td>current</td>\n",
       "      <td>M</td>\n",
       "      <td>39</td>\n",
       "      <td>878</td>\n",
       "      <td>33060.58</td>\n",
       "      <td>NaN</td>\n",
       "      <td>3797.12</td>\n",
       "      <td>NaN</td>\n",
       "      <td>291.00</td>\n",
       "      <td>NaN</td>\n",
       "      <td>16.0</td>\n",
       "      <td>12.0</td>\n",
       "      <td>15.0</td>\n",
       "      <td>NaN</td>\n",
       "      <td>NaN</td>\n",
       "      <td>NaN</td>\n",
       "      <td>86000.0</td>\n",
       "      <td>NaN</td>\n",
       "      <td>NaN</td>\n",
       "      <td>NaN</td>\n",
       "      <td>NaN</td>\n",
       "      <td>NaN</td>\n",
       "      <td>NaN</td>\n",
       "      <td>NaN</td>\n",
       "      <td>NaN</td>\n",
       "      <td>45342.25</td>\n",
       "      <td>59640.0</td>\n",
       "      <td>4.0</td>\n",
       "      <td>5.0</td>\n",
       "      <td>28753.0</td>\n",
       "      <td>84699.30</td>\n",
       "      <td>63393.00</td>\n",
       "      <td>4.0</td>\n",
       "      <td>8.0</td>\n",
       "      <td>57185.0</td>\n",
       "      <td>52927.00</td>\n",
       "      <td>89425.0</td>\n",
       "      <td>7.0</td>\n",
       "      <td>11.0</td>\n",
       "      <td>32696.0</td>\n",
       "      <td>NaN</td>\n",
       "      <td>0.00</td>\n",
       "    </tr>\n",
       "    <tr>\n",
       "      <td>4</td>\n",
       "      <td>40415</td>\n",
       "      <td>current</td>\n",
       "      <td>M</td>\n",
       "      <td>44</td>\n",
       "      <td>404</td>\n",
       "      <td>18236.90</td>\n",
       "      <td>NaN</td>\n",
       "      <td>30513.30</td>\n",
       "      <td>NaN</td>\n",
       "      <td>20395.28</td>\n",
       "      <td>NaN</td>\n",
       "      <td>42.0</td>\n",
       "      <td>38.0</td>\n",
       "      <td>20.0</td>\n",
       "      <td>NaN</td>\n",
       "      <td>NaN</td>\n",
       "      <td>NaN</td>\n",
       "      <td>250000.0</td>\n",
       "      <td>NaN</td>\n",
       "      <td>NaN</td>\n",
       "      <td>NaN</td>\n",
       "      <td>NaN</td>\n",
       "      <td>NaN</td>\n",
       "      <td>NaN</td>\n",
       "      <td>NaN</td>\n",
       "      <td>NaN</td>\n",
       "      <td>25493.95</td>\n",
       "      <td>25154.0</td>\n",
       "      <td>4.0</td>\n",
       "      <td>1.0</td>\n",
       "      <td>25000.0</td>\n",
       "      <td>39813.40</td>\n",
       "      <td>45120.00</td>\n",
       "      <td>1.0</td>\n",
       "      <td>5.0</td>\n",
       "      <td>45000.0</td>\n",
       "      <td>31656.69</td>\n",
       "      <td>34275.0</td>\n",
       "      <td>3.0</td>\n",
       "      <td>4.0</td>\n",
       "      <td>19000.0</td>\n",
       "      <td>NaN</td>\n",
       "      <td>3342.58</td>\n",
       "    </tr>\n",
       "  </tbody>\n",
       "</table>\n",
       "</div>"
      ],
      "text/plain": [
       "      id account_type gender  age  region_code  cc_cons_apr  dc_cons_apr  \\\n",
       "0  6975   saving       M      36   447          17942.70     1170.0        \n",
       "1  43223  current      M      31   233          44870.36    NaN            \n",
       "2  45502  current      M      26   823          1073.00      2442.0        \n",
       "3  12368  current      M      39   878          33060.58    NaN            \n",
       "4  40415  current      M      44   404          18236.90    NaN            \n",
       "\n",
       "   cc_cons_may  dc_cons_may  cc_cons_jun  dc_cons_jun  cc_count_apr  \\\n",
       "0  1656.00     NaN           4551.00     NaN           6.0            \n",
       "1  34177.00    NaN           25889.21    NaN           13.0           \n",
       "2  4141.00      390.0        6740.29      642.0        3.0            \n",
       "3  3797.12     NaN           291.00      NaN           16.0           \n",
       "4  30513.30    NaN           20395.28    NaN           42.0           \n",
       "\n",
       "   cc_count_may  cc_count_jun  dc_count_apr  dc_count_may  dc_count_jun  \\\n",
       "0  2.0           6.0           1.0          NaN           NaN             \n",
       "1  19.0          36.0         NaN           NaN           NaN             \n",
       "2  5.0           2.0           8.0           3.0           3.0            \n",
       "3  12.0          15.0         NaN           NaN           NaN             \n",
       "4  38.0          20.0         NaN           NaN           NaN             \n",
       "\n",
       "   card_lim  personal_loan_active  vehicle_loan_active  personal_loan_closed  \\\n",
       "0  75000.0  NaN                   NaN                  NaN                     \n",
       "1  116000.0 NaN                   NaN                  NaN                     \n",
       "2  40000.0  NaN                   NaN                  NaN                     \n",
       "3  86000.0  NaN                   NaN                  NaN                     \n",
       "4  250000.0 NaN                   NaN                  NaN                     \n",
       "\n",
       "   vehicle_loan_closed  investment_1  investment_2  investment_3  \\\n",
       "0  1.0                 NaN           NaN           NaN             \n",
       "1 NaN                  NaN           NaN           NaN             \n",
       "2 NaN                  NaN           NaN           NaN             \n",
       "3 NaN                  NaN           NaN           NaN             \n",
       "4 NaN                  NaN           NaN           NaN             \n",
       "\n",
       "   investment_4  debit_amount_apr  credit_amount_apr  debit_count_apr  \\\n",
       "0 NaN            10806.93          25279.0            7.0               \n",
       "1 NaN           NaN               NaN                NaN                \n",
       "2 NaN            83205.22          105813.0           33.0              \n",
       "3 NaN            45342.25          59640.0            4.0               \n",
       "4 NaN            25493.95          25154.0            4.0               \n",
       "\n",
       "   credit_count_apr  max_credit_amount_apr  debit_amount_may  \\\n",
       "0  2.0               20000.0                21530.34           \n",
       "1 NaN               NaN                    NaN                 \n",
       "2  5.0               39000.0                90312.48           \n",
       "3  5.0               28753.0                84699.30           \n",
       "4  1.0               25000.0                39813.40           \n",
       "\n",
       "   credit_amount_may  credit_count_may  debit_count_may  \\\n",
       "0  15416.52           3.0               7.0               \n",
       "1 NaN                NaN               NaN                \n",
       "2  65227.00           4.0               22.0              \n",
       "3  63393.00           4.0               8.0               \n",
       "4  45120.00           1.0               5.0               \n",
       "\n",
       "   max_credit_amount_may  debit_amount_jun  credit_amount_jun  \\\n",
       "0  10000.0                17316.44          5154.0              \n",
       "1 NaN                    NaN               NaN                  \n",
       "2  26926.0                33981.00          37762.0             \n",
       "3  57185.0                52927.00          89425.0             \n",
       "4  45000.0                31656.69          34275.0             \n",
       "\n",
       "   credit_count_jun  debit_count_jun  max_credit_amount_jun loan_enq  \\\n",
       "0  2.0               8.0              5000.0                 NaN       \n",
       "1 NaN               NaN              NaN                     NaN       \n",
       "2  3.0               15.0             29352.0                NaN       \n",
       "3  7.0               11.0             32696.0                NaN       \n",
       "4  3.0               4.0              19000.0                NaN       \n",
       "\n",
       "   emi_active  \n",
       "0  0.00        \n",
       "1  0.00        \n",
       "2  2885.82     \n",
       "3  0.00        \n",
       "4  3342.58     "
      ]
     },
     "execution_count": 71,
     "metadata": {},
     "output_type": "execute_result"
    }
   ],
   "source": [
    "test=pd.read_csv('Data/test.csv')\n",
    "len(test)\n",
    "test.head()"
   ]
  },
  {
   "cell_type": "markdown",
   "metadata": {
    "heading_collapsed": true,
    "hidden": true
   },
   "source": [
    "## Treat Missing Values"
   ]
  },
  {
   "cell_type": "code",
   "execution_count": 72,
   "metadata": {
    "ExecuteTime": {
     "end_time": "2019-10-15T01:05:20.848368Z",
     "start_time": "2019-10-15T01:05:19.751107Z"
    },
    "hidden": true
   },
   "outputs": [],
   "source": [
    "# treat missing values\n",
    "test.personal_loan_active.fillna(0,inplace=True)\n",
    "test.vehicle_loan_active.fillna(0,inplace=True)\n",
    "test.personal_loan_closed.fillna(0,inplace=True)\n",
    "test.vehicle_loan_closed.fillna(0,inplace=True)\n",
    "test.dc_count_apr.fillna(0,inplace=True)\n",
    "test.dc_count_may.fillna(0,inplace=True)\n",
    "test.dc_count_jun.fillna(0,inplace=True)\n",
    "test.loc[test.dc_count_apr==0,'dc_cons_apr']=0\n",
    "test.loc[test.dc_count_may==0,'dc_cons_may']=0\n",
    "test.loc[test.dc_count_jun==0,'dc_cons_jun']=0\n",
    "test.cc_count_apr.fillna(0,inplace=True)\n",
    "test.cc_count_may.fillna(0,inplace=True)\n",
    "test.cc_count_jun.fillna(0,inplace=True)\n",
    "test.loc[test.cc_count_apr==0,'cc_cons_apr']=0\n",
    "test.loc[test.cc_count_may==0,'cc_cons_may']=0\n",
    "test.loc[test.cc_count_jun==0,'cc_cons_jun']=0\n",
    "test.debit_count_apr.fillna(0,inplace=True)\n",
    "test.debit_count_may.fillna(0,inplace=True)\n",
    "test.debit_count_jun.fillna(0,inplace=True)\n",
    "test.loc[test.debit_count_apr==0,'debit_amount_apr']=0\n",
    "test.loc[test.debit_count_may==0,'debit_amount_may']=0\n",
    "test.loc[test.debit_count_jun==0,'debit_amount_jun']=0\n",
    "test.credit_count_apr.fillna(0,inplace=True)\n",
    "test.credit_count_may.fillna(0,inplace=True)\n",
    "test.credit_count_jun.fillna(0,inplace=True)\n",
    "test.loc[test.credit_count_apr==0,'credit_amount_apr']=0\n",
    "test.loc[test.credit_count_may==0,'credit_amount_may']=0\n",
    "test.loc[test.credit_count_jun==0,'credit_amount_jun']=0\n",
    "test.loan_enq.fillna('N',inplace=True)\n",
    "test.drop(columns=['investment_1','investment_2','investment_3','investment_4'],axis=1,inplace=True)\n",
    "test.fillna(df.mean(),inplace=True)"
   ]
  },
  {
   "cell_type": "code",
   "execution_count": 73,
   "metadata": {
    "ExecuteTime": {
     "end_time": "2019-10-15T01:05:22.190569Z",
     "start_time": "2019-10-15T01:05:22.181735Z"
    },
    "collapsed": true,
    "hidden": true
   },
   "outputs": [
    {
     "data": {
      "text/plain": [
       "id                       0\n",
       "account_type             0\n",
       "gender                   0\n",
       "age                      0\n",
       "region_code              0\n",
       "cc_cons_apr              0\n",
       "dc_cons_apr              0\n",
       "cc_cons_may              0\n",
       "dc_cons_may              0\n",
       "cc_cons_jun              0\n",
       "dc_cons_jun              0\n",
       "cc_count_apr             0\n",
       "cc_count_may             0\n",
       "cc_count_jun             0\n",
       "dc_count_apr             0\n",
       "dc_count_may             0\n",
       "dc_count_jun             0\n",
       "card_lim                 0\n",
       "personal_loan_active     0\n",
       "vehicle_loan_active      0\n",
       "personal_loan_closed     0\n",
       "vehicle_loan_closed      0\n",
       "debit_amount_apr         0\n",
       "credit_amount_apr        0\n",
       "debit_count_apr          0\n",
       "credit_count_apr         0\n",
       "max_credit_amount_apr    0\n",
       "debit_amount_may         0\n",
       "credit_amount_may        0\n",
       "credit_count_may         0\n",
       "debit_count_may          0\n",
       "max_credit_amount_may    0\n",
       "debit_amount_jun         0\n",
       "credit_amount_jun        0\n",
       "credit_count_jun         0\n",
       "debit_count_jun          0\n",
       "max_credit_amount_jun    0\n",
       "loan_enq                 0\n",
       "emi_active               0\n",
       "dtype: int64"
      ]
     },
     "execution_count": 73,
     "metadata": {},
     "output_type": "execute_result"
    }
   ],
   "source": [
    "# cross check missing values\n",
    "test.isnull().sum()"
   ]
  },
  {
   "cell_type": "markdown",
   "metadata": {
    "heading_collapsed": true,
    "hidden": true
   },
   "source": [
    "## Feature Engineering"
   ]
  },
  {
   "cell_type": "code",
   "execution_count": 74,
   "metadata": {
    "ExecuteTime": {
     "end_time": "2019-10-15T01:05:27.276704Z",
     "start_time": "2019-10-15T01:05:27.253690Z"
    },
    "hidden": true
   },
   "outputs": [],
   "source": [
    "# change the datatypes of the columns accordingly for generating dummies\n",
    "categorical_columns=['account_type','gender','region_code','personal_loan_active',\n",
    "                     'vehicle_loan_active','personal_loan_closed','vehicle_loan_closed','loan_enq']\n",
    "for c in categorical_columns:\n",
    "    test[c]=test[c].astype('category');"
   ]
  },
  {
   "cell_type": "code",
   "execution_count": 75,
   "metadata": {
    "ExecuteTime": {
     "end_time": "2019-10-15T01:05:29.301604Z",
     "start_time": "2019-10-15T01:05:28.693375Z"
    },
    "hidden": true
   },
   "outputs": [
    {
     "data": {
      "text/plain": [
       "83"
      ]
     },
     "execution_count": 75,
     "metadata": {},
     "output_type": "execute_result"
    }
   ],
   "source": [
    "test=test.drop(columns=['region_code'])\n",
    "# create calculated fields\n",
    "# Total dc and cc cons for 3 months\n",
    "test['cc_cons_sum']= test['cc_cons_apr'] + test['cc_cons_may'] + test['cc_cons_jun']\n",
    "test['dc_cons_sum']= test['dc_cons_apr']+ test['dc_cons_may'] + test['dc_cons_jun']\n",
    "# Total dc and cc count for 3 months\n",
    "test['cc_count_sum'] = test['cc_count_apr'] + test['cc_count_may'] + test['cc_count_jun']\n",
    "test['dc_count_sum'] = test['dc_count_apr'] + test['dc_count_may'] + test['dc_count_jun']\n",
    "# Total dc and cc cons average for 3 months\n",
    "test['cc_cons_avg'] = 0\n",
    "test.loc[test.cc_count_sum != 0,'cc_cons_avg'] = test.loc[test.cc_count_sum != 0,'cc_cons_sum']/test.loc[test.cc_count_sum != 0,'cc_count_sum']\n",
    "test['dc_cons_avg'] = 0\n",
    "test.loc[test.dc_count_sum != 0,'dc_cons_avg'] = test.loc[test.dc_count_sum != 0,'dc_cons_sum']/test.loc[test.dc_count_sum != 0,'dc_count_sum']\n",
    "# Average dc cons for each month\n",
    "test['dc_cons_apr_avg']= 0\n",
    "test.loc[test.dc_count_apr != 0,'dc_cons_apr_avg'] = test.loc[test.dc_count_apr != 0,'dc_cons_apr']/test.loc[test.dc_count_apr != 0,'dc_count_apr']\n",
    "test['dc_cons_may_avg'] = 0\n",
    "test.loc[test.dc_count_may != 0,'dc_cons_may_avg'] = test.loc[test.dc_count_may != 0,'dc_cons_may']/test.loc[test.dc_count_may != 0,'dc_count_may']\n",
    "test['dc_cons_jun_avg']= 0\n",
    "test.loc[test.dc_count_jun != 0,'dc_cons_jun_avg'] = test.loc[test.dc_count_jun != 0,'dc_cons_jun']/test.loc[test.dc_count_jun != 0,'dc_count_jun']\n",
    "# Average cc cons for each month\n",
    "test['cc_cons_apr_avg'] = 0\n",
    "test.loc[test.cc_count_apr != 0,'cc_cons_apr_avg'] = test.loc[test.cc_count_apr != 0,'cc_cons_apr']/test.loc[test.cc_count_apr != 0,'cc_count_apr']\n",
    "test['cc_cons_may_avg'] = 0\n",
    "test.loc[test.cc_count_may != 0,'cc_cons_may_avg'] = test.loc[test.cc_count_may != 0,'cc_cons_may']/test.loc[test.cc_count_may != 0,'cc_count_may']\n",
    "test['cc_cons_jun_avg'] = 0\n",
    "test.loc[test.cc_count_jun != 0,'cc_cons_jun_avg'] = test.loc[test.cc_count_jun != 0,'cc_cons_jun']/test.loc[test.cc_count_jun != 0,'cc_count_jun']\n",
    "# Total credit and debit amount for 3 months\n",
    "test['credit_amount_sum'] = test.credit_amount_apr + test.credit_amount_may + test.credit_amount_jun\n",
    "test['debit_amount_sum'] = test.debit_amount_apr + test.debit_amount_may + test.debit_amount_jun\n",
    "# Total credit and debit count for 3 months\n",
    "test['credit_count_sum'] = test.credit_count_apr + test.credit_count_may + test.credit_count_jun\n",
    "test['debit_count_sum'] = test.debit_count_apr + test.debit_count_may + test.debit_count_jun\n",
    "# Total credit and debit amount average for 3 months\n",
    "test['credit_amount_avg'] = 0\n",
    "test.loc[test.credit_count_sum != 0,'credit_amount_avg'] = test.loc[test.credit_count_sum != 0,'credit_amount_sum']/test.loc[test.credit_count_sum != 0,'credit_count_sum']\n",
    "test['debit_amount_avg'] = 0\n",
    "test.loc[test.debit_count_sum != 0,'debit_amount_avg'] = test.loc[test.debit_count_sum != 0,'debit_amount_sum']/test.loc[test.debit_count_sum != 0,'debit_count_sum']\n",
    "# average debit amount for each month\n",
    "test['debit_amount_apr_avg']= 0\n",
    "test.loc[test.debit_count_apr != 0,'debit_amount_apr_avg'] = test.loc[test.debit_count_apr != 0,'debit_amount_apr']/test.loc[test.debit_count_apr != 0,'debit_count_apr']\n",
    "test['debit_amount_may_avg'] = 0\n",
    "test.loc[test.debit_count_may != 0,'debit_amount_may_avg'] = test.loc[test.debit_count_may != 0,'debit_amount_may']/test.loc[test.debit_count_may != 0,'debit_count_may']\n",
    "test['debit_amount_jun_avg'] = 0\n",
    "test.loc[test.debit_count_jun != 0,'debit_amount_jun_avg'] = test.loc[test.debit_count_jun != 0,'debit_amount_jun']/test.loc[test.debit_count_jun != 0,'debit_count_jun']\n",
    "# average credit amount for each month\n",
    "test['credit_amount_apr_avg'] = 0\n",
    "test.loc[test.credit_count_apr != 0,'credit_amount_apr_avg'] = test.loc[test.credit_count_apr != 0,'credit_amount_apr']/test.loc[test.credit_count_apr != 0,'credit_count_apr']\n",
    "test['credit_amount_may_avg'] = 0\n",
    "test.loc[test.credit_count_may != 0,'credit_amount_may_avg'] = test.loc[test.credit_count_may != 0,'credit_amount_may']/test.loc[test.credit_count_may != 0,'credit_count_may']\n",
    "test['credit_amount_jun_avg'] = 0\n",
    "test.loc[test.credit_count_jun != 0,'credit_amount_jun_avg'] = test.loc[test.credit_count_jun != 0,'credit_amount_jun']/test.loc[test.credit_count_jun != 0,'credit_count_jun']\n",
    "# percentage credit amount per month\n",
    "test['perc_credit_amount_apr'] = 0\n",
    "test.loc[test.max_credit_amount_apr!= 0,'perc_credit_amount_apr'] = test.loc[test.max_credit_amount_apr!= 0,'credit_amount_apr']/test.loc[test.max_credit_amount_apr!= 0,'max_credit_amount_apr']\n",
    "test['perc_credit_amount_may'] = 0\n",
    "test.loc[test.max_credit_amount_may!= 0,'perc_credit_amount_may'] = test.loc[test.max_credit_amount_may!= 0,'credit_amount_may']/test.loc[test.max_credit_amount_may!= 0,'max_credit_amount_may']\n",
    "test['perc_credit_amount_jun'] = 0\n",
    "test.loc[test.max_credit_amount_jun!= 0,'perc_credit_amount_jun'] = test.loc[test.max_credit_amount_jun!= 0,'credit_amount_jun']/test.loc[test.max_credit_amount_jun!= 0,'max_credit_amount_jun']\n",
    "# proportion of debit and credit consumptions per month\n",
    "test['cc_cons_apr_prop'] = 0\n",
    "test.loc[test.cc_cons_sum!= 0,'cc_cons_apr_prop'] = test.loc[test.cc_cons_sum!= 0,'cc_cons_apr']/test.loc[test.cc_cons_sum != 0,'cc_cons_sum']\n",
    "test['cc_cons_may_prop'] = 0\n",
    "test.loc[test.cc_cons_sum != 0,'cc_cons_may_prop'] = test.loc[test.cc_cons_sum != 0,'cc_cons_may']/test.loc[test.cc_cons_sum != 0,'cc_cons_sum']\n",
    "test['cc_cons_jun_prop'] = 0\n",
    "test.loc[test.cc_cons_sum != 0,'cc_cons_jun_prop'] = test.loc[test.cc_cons_sum != 0,'cc_cons_jun']/test.loc[test.cc_cons_sum != 0,'cc_cons_sum']\n",
    "test['dc_cons_apr_prop'] = 0\n",
    "test.loc[test.dc_cons_sum != 0,'dc_cons_apr_prop'] = test.loc[test.dc_cons_sum != 0,'dc_cons_apr']/test.loc[test.dc_cons_sum != 0,'dc_cons_sum']\n",
    "test['dc_cons_may_prop'] = 0\n",
    "test.loc[test.dc_cons_sum != 0,'dc_cons_may_prop'] = test.loc[test.dc_cons_sum != 0,'dc_cons_may']/test.loc[test.dc_cons_sum != 0,'dc_cons_sum']\n",
    "test['dc_cons_jun_prop'] = 0\n",
    "test.loc[test.dc_cons_sum != 0,'dc_cons_jun_prop'] = test.loc[test.dc_cons_sum != 0,'dc_cons_jun']/test.loc[test.dc_cons_sum != 0,'dc_cons_sum']\n",
    "# proportion of debit and credit amounts per month\n",
    "test['credit_amount_apr_prop'] = 0\n",
    "test.loc[test.credit_amount_sum != 0,'credit_amount_apr_prop'] = test.loc[test.credit_amount_sum != 0,'credit_amount_apr']/test.loc[test.credit_amount_sum != 0,'credit_amount_sum']\n",
    "test['credit_amount_may_prop'] = 0\n",
    "test.loc[test.credit_amount_sum != 0,'credit_amount_may_prop'] = test.loc[test.credit_amount_sum != 0,'credit_amount_may']/test.loc[test.credit_amount_sum != 0,'credit_amount_sum']\n",
    "test['credit_amount_jun_prop'] = 0\n",
    "test.loc[test.credit_amount_sum != 0,'credit_amount_jun_prop'] = test.loc[test.credit_amount_sum != 0,'credit_amount_jun']/test.loc[test.credit_amount_sum != 0,'credit_amount_sum']\n",
    "test['debit_amount_apr_prop'] = 0\n",
    "test.loc[test.debit_amount_sum != 0,'debit_amount_apr_prop'] = test.loc[test.debit_amount_sum != 0,'debit_amount_apr']/test.loc[test.debit_amount_sum != 0,'debit_amount_sum']\n",
    "test['debit_amount_may_prop'] = 0\n",
    "test.loc[test.debit_amount_sum != 0,'debit_amount_may_prop'] = test.loc[test.debit_amount_sum != 0,'debit_amount_may']/test.loc[test.debit_amount_sum != 0,'debit_amount_sum']\n",
    "test['debit_amount_jun_prop'] = 0\n",
    "test.loc[test.debit_amount_sum != 0,'debit_amount_jun_prop'] = test.loc[test.debit_amount_sum != 0,'debit_amount_jun']/test.loc[test.debit_amount_sum != 0,'debit_amount_sum']\n",
    "# debit by credit cons and amount ratios\n",
    "test['d_by_c_cons_ratio_apr'] = 0\n",
    "test.loc[test.cc_cons_apr != 0,'d_by_c_cons_ratio_apr'] = test.loc[test.cc_cons_apr != 0,'dc_cons_apr']/test.loc[test.cc_cons_apr != 0,'cc_cons_apr']\n",
    "test['d_by_c_cons_ratio_may'] = 0\n",
    "test.loc[test.cc_cons_may != 0,'d_by_c_cons_ratio_may'] = test.loc[test.cc_cons_may != 0,'dc_cons_may']/test.loc[test.cc_cons_may != 0,'cc_cons_may']\n",
    "test['d_by_c_cons_ratio_jun'] = 0\n",
    "test.loc[test.cc_cons_jun != 0,'d_by_c_cons_ratio_jun'] = test.loc[test.cc_cons_jun != 0,'dc_cons_jun']/test.loc[test.cc_cons_jun != 0,'cc_cons_jun']\n",
    "test['d_by_c_amount_ratio_apr'] = 0\n",
    "test.loc[test.credit_amount_apr != 0,'d_by_c_amount_ratio_apr'] = test.loc[test.credit_amount_apr != 0,'debit_amount_apr']/test.loc[test.credit_amount_apr != 0,'credit_amount_apr']\n",
    "test['d_by_c_amount_ratio_may'] = 0\n",
    "test.loc[test.credit_amount_may != 0,'d_by_c_amount_ratio_may'] = test.loc[test.credit_amount_may != 0,'debit_amount_may']/test.loc[test.credit_amount_may != 0,'credit_amount_may']\n",
    "test['d_by_c_amount_ratio_jun'] = 0\n",
    "test.loc[test.credit_amount_jun != 0,'d_by_c_amount_ratio_jun'] = test.loc[test.credit_amount_jun != 0,'debit_amount_jun']/test.loc[test.credit_amount_jun != 0,'credit_amount_jun']\n",
    "len(test.columns)"
   ]
  },
  {
   "cell_type": "markdown",
   "metadata": {
    "heading_collapsed": true,
    "hidden": true
   },
   "source": [
    "## Predictions"
   ]
  },
  {
   "cell_type": "code",
   "execution_count": 83,
   "metadata": {
    "ExecuteTime": {
     "end_time": "2019-10-15T01:25:07.508637Z",
     "start_time": "2019-10-15T01:25:07.348439Z"
    },
    "hidden": true
   },
   "outputs": [],
   "source": [
    "# generate dummy values\n",
    "test_X=pd.get_dummies(test.drop(columns=['id']),drop_first=True)\n",
    "test_Y=sclf.predict(test_X.values)"
   ]
  },
  {
   "cell_type": "code",
   "execution_count": 85,
   "metadata": {
    "ExecuteTime": {
     "end_time": "2019-10-15T01:25:59.991153Z",
     "start_time": "2019-10-15T01:25:59.980673Z"
    },
    "hidden": true
   },
   "outputs": [
    {
     "data": {
      "text/html": [
       "<div>\n",
       "<style scoped>\n",
       "    .dataframe tbody tr th:only-of-type {\n",
       "        vertical-align: middle;\n",
       "    }\n",
       "\n",
       "    .dataframe tbody tr th {\n",
       "        vertical-align: top;\n",
       "    }\n",
       "\n",
       "    .dataframe thead th {\n",
       "        text-align: right;\n",
       "    }\n",
       "</style>\n",
       "<table border=\"1\" class=\"dataframe\">\n",
       "  <thead>\n",
       "    <tr style=\"text-align: right;\">\n",
       "      <th></th>\n",
       "      <th>id</th>\n",
       "      <th>cc_cons</th>\n",
       "    </tr>\n",
       "  </thead>\n",
       "  <tbody>\n",
       "    <tr>\n",
       "      <td>0</td>\n",
       "      <td>6975</td>\n",
       "      <td>2837.249150</td>\n",
       "    </tr>\n",
       "    <tr>\n",
       "      <td>1</td>\n",
       "      <td>43223</td>\n",
       "      <td>9378.527248</td>\n",
       "    </tr>\n",
       "    <tr>\n",
       "      <td>2</td>\n",
       "      <td>45502</td>\n",
       "      <td>1863.712986</td>\n",
       "    </tr>\n",
       "    <tr>\n",
       "      <td>3</td>\n",
       "      <td>12368</td>\n",
       "      <td>2436.883244</td>\n",
       "    </tr>\n",
       "    <tr>\n",
       "      <td>4</td>\n",
       "      <td>40415</td>\n",
       "      <td>6890.663809</td>\n",
       "    </tr>\n",
       "  </tbody>\n",
       "</table>\n",
       "</div>"
      ],
      "text/plain": [
       "      id      cc_cons\n",
       "0  6975   2837.249150\n",
       "1  43223  9378.527248\n",
       "2  45502  1863.712986\n",
       "3  12368  2436.883244\n",
       "4  40415  6890.663809"
      ]
     },
     "execution_count": 85,
     "metadata": {},
     "output_type": "execute_result"
    }
   ],
   "source": [
    "sample_submission=pd.concat([test['id'], pd.Series(test_Y)], axis=1)\n",
    "sample_submission.rename(columns={0:'cc_cons'},inplace=True)\n",
    "sample_submission['cc_cons']=np.exp(sample_submission['cc_cons'])-1\n",
    "sample_submission.head()"
   ]
  },
  {
   "cell_type": "code",
   "execution_count": 86,
   "metadata": {
    "ExecuteTime": {
     "end_time": "2019-10-15T01:26:10.118641Z",
     "start_time": "2019-10-15T01:26:10.058262Z"
    },
    "hidden": true
   },
   "outputs": [],
   "source": [
    "sample_submission.to_csv('final_submission.csv',index=None,header=True)"
   ]
  }
 ],
 "metadata": {
  "kernelspec": {
   "display_name": "Python 3",
   "language": "python",
   "name": "python3"
  },
  "language_info": {
   "codemirror_mode": {
    "name": "ipython",
    "version": 3
   },
   "file_extension": ".py",
   "mimetype": "text/x-python",
   "name": "python",
   "nbconvert_exporter": "python",
   "pygments_lexer": "ipython3",
   "version": "3.7.2"
  },
  "toc": {
   "base_numbering": 1,
   "nav_menu": {},
   "number_sections": true,
   "sideBar": true,
   "skip_h1_title": false,
   "title_cell": "Table of Contents",
   "title_sidebar": "Contents",
   "toc_cell": false,
   "toc_position": {},
   "toc_section_display": true,
   "toc_window_display": false
  },
  "varInspector": {
   "cols": {
    "lenName": 16,
    "lenType": 16,
    "lenVar": 40
   },
   "kernels_config": {
    "python": {
     "delete_cmd_postfix": "",
     "delete_cmd_prefix": "del ",
     "library": "var_list.py",
     "varRefreshCmd": "print(var_dic_list())"
    },
    "r": {
     "delete_cmd_postfix": ") ",
     "delete_cmd_prefix": "rm(",
     "library": "var_list.r",
     "varRefreshCmd": "cat(var_dic_list()) "
    }
   },
   "types_to_exclude": [
    "module",
    "function",
    "builtin_function_or_method",
    "instance",
    "_Feature"
   ],
   "window_display": false
  }
 },
 "nbformat": 4,
 "nbformat_minor": 2
}
